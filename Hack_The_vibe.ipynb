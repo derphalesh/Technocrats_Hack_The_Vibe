{
  "metadata": {
    "kernelspec": {
      "name": "python3",
      "display_name": "Python 3",
      "language": "python"
    },
    "language_info": {
      "name": "python",
      "version": "3.7.10",
      "mimetype": "text/x-python",
      "codemirror_mode": {
        "name": "ipython",
        "version": 3
      },
      "pygments_lexer": "ipython3",
      "nbconvert_exporter": "python",
      "file_extension": ".py"
    },
    "colab": {
      "provenance": [],
      "include_colab_link": true
    }
  },
  "nbformat_minor": 5,
  "nbformat": 4,
  "cells": [
    {
      "cell_type": "markdown",
      "metadata": {
        "id": "view-in-github",
        "colab_type": "text"
      },
      "source": [
        "<a href=\"https://colab.research.google.com/github/derphalesh/Technocrats_Hack_The_Vibe/blob/master/Hack_The_vibe.ipynb\" target=\"_parent\"><img src=\"https://colab.research.google.com/assets/colab-badge.svg\" alt=\"Open In Colab\"/></a>"
      ]
    },
    {
      "cell_type": "markdown",
      "source": [
        "\n",
        "<div>\n",
        "<img src=\"attachment:dataset-cover.jpg\" width=\"500\"/>\n",
        "</div>"
      ],
      "metadata": {
        "id": "PHjOok9Aj2XK"
      },
      "id": "PHjOok9Aj2XK"
    },
    {
      "cell_type": "code",
      "source": [
        "import matplotlib.pyplot as plt\n",
        "import seaborn as sns \n",
        "import pandas as pd \n",
        "import numpy as np \n",
        "from sklearn.model_selection import train_test_split\n",
        "from sklearn.preprocessing import PowerTransformer\n",
        "from datasist.structdata import detect_outliers\n",
        "from sklearn.metrics import mean_squared_error\n",
        "from imblearn.over_sampling import SMOTE\n",
        "from sklearn.impute import SimpleImputer\n",
        "import category_encoders as ce\n",
        "import re  \n",
        "from sklearn.experimental import enable_hist_gradient_boosting\n",
        "from sklearn.ensemble import (\n",
        "    BaggingClassifier,\n",
        "    ExtraTreesClassifier,\n",
        "    RandomForestClassifier,\n",
        "    StackingClassifier,\n",
        "    HistGradientBoostingClassifier\n",
        ")\n",
        "from xgboost import XGBClassifier\n",
        "from sklearn.metrics import classification_report \n",
        "import joblib \n",
        "sns.set(rc={'figure.figsize': [14, 7]}, font_scale=1.2) \n",
        "np.seterr(divide='ignore', invalid='ignore', over='ignore') ;\n",
        "import warnings \n",
        "warnings.filterwarnings(\"ignore\")"
      ],
      "metadata": {
        "execution": {
          "iopub.status.busy": "2022-10-15T06:18:59.197583Z",
          "iopub.execute_input": "2022-10-15T06:18:59.197834Z",
          "iopub.status.idle": "2022-10-15T06:18:59.596078Z",
          "shell.execute_reply.started": "2022-10-15T06:18:59.197805Z",
          "shell.execute_reply": "2022-10-15T06:18:59.595048Z"
        },
        "trusted": true,
        "id": "qjU6gwYqj2Xt",
        "colab": {
          "base_uri": "https://localhost:8080/"
        },
        "outputId": "1530cb80-6aff-4786-f484-37dd0b670b9e"
      },
      "execution_count": null,
      "outputs": [
        {
          "output_type": "stream",
          "name": "stderr",
          "text": [
            "/usr/local/lib/python3.9/dist-packages/sklearn/experimental/enable_hist_gradient_boosting.py:16: UserWarning: Since version 1.0, it is not needed to import enable_hist_gradient_boosting anymore. HistGradientBoostingClassifier and HistGradientBoostingRegressor are now stable and can be normally imported from sklearn.ensemble.\n",
            "  warnings.warn(\n"
          ]
        }
      ],
      "id": "qjU6gwYqj2Xt"
    },
    {
      "cell_type": "markdown",
      "source": [
        "## Reading Data "
      ],
      "metadata": {
        "id": "ploLtm-Vj2Xz"
      },
      "id": "ploLtm-Vj2Xz"
    },
    {
      "cell_type": "code",
      "source": [
        "from google.colab import drive\n",
        "drive.mount('/content/drive')"
      ],
      "metadata": {
        "execution": {
          "iopub.status.busy": "2022-10-15T05:44:11.917444Z",
          "iopub.execute_input": "2022-10-15T05:44:11.917672Z",
          "iopub.status.idle": "2022-10-15T05:44:13.128090Z",
          "shell.execute_reply.started": "2022-10-15T05:44:11.917647Z",
          "shell.execute_reply": "2022-10-15T05:44:13.127324Z"
        },
        "trusted": true,
        "id": "nVY1NEltj2X0",
        "colab": {
          "base_uri": "https://localhost:8080/"
        },
        "outputId": "0b3d5cca-9e89-42e9-d240-513e970a9d86"
      },
      "execution_count": null,
      "outputs": [
        {
          "output_type": "stream",
          "name": "stdout",
          "text": [
            "Mounted at /content/drive\n"
          ]
        }
      ],
      "id": "nVY1NEltj2X0"
    },
    {
      "cell_type": "code",
      "source": [
        "df = pd.read_csv(\"/content/drive/MyDrive/Hack The VIbe/credit/train.csv\")"
      ],
      "metadata": {
        "id": "49uCqYVjlLZZ"
      },
      "id": "49uCqYVjlLZZ",
      "execution_count": null,
      "outputs": []
    },
    {
      "cell_type": "code",
      "source": [
        "df.sample(10)"
      ],
      "metadata": {
        "execution": {
          "iopub.status.busy": "2022-10-15T05:44:13.129155Z",
          "iopub.execute_input": "2022-10-15T05:44:13.129445Z",
          "iopub.status.idle": "2022-10-15T05:44:13.171886Z",
          "shell.execute_reply.started": "2022-10-15T05:44:13.129386Z",
          "shell.execute_reply": "2022-10-15T05:44:13.171022Z"
        },
        "trusted": true,
        "id": "uyo6l6EYj2X1",
        "outputId": "5ef36b9c-2b80-4624-c0c3-a04054f2d034",
        "colab": {
          "base_uri": "https://localhost:8080/",
          "height": 804
        }
      },
      "execution_count": null,
      "outputs": [
        {
          "output_type": "execute_result",
          "data": {
            "text/plain": [
              "            ID Customer_ID     Month            Name  Age          SSN  \\\n",
              "80021  0x1eadf  CUS_0x1d58      June           Cheel   20  832-91-7166   \n",
              "97627  0x25209  CUS_0x5cf2     April    Eva Kuehneno   33  949-81-4492   \n",
              "26563   0xb1a5  CUS_0x66c7     April        Piersong   24  192-92-9184   \n",
              "38748   0xf90a  CUS_0x2ca8       May     Wayne Colel   21  531-62-7802   \n",
              "69404  0x1acaa  CUS_0x275c       May         Ayeshas   43  525-44-6888   \n",
              "46417  0x125fb  CUS_0x2353  February        Sheahane  25_  496-79-8901   \n",
              "50122  0x13bb0  CUS_0x9469     March       Mutikanix   26  517-43-4607   \n",
              "75654  0x1d148  CUS_0x9f23      July  Neil Maidmentp   25  655-42-1269   \n",
              "894     0x1b3c  CUS_0x8c69      July        Toonkelf   25  070-07-9414   \n",
              "52185  0x147c7  CUS_0x275d  February   Papachristouq   32  257-48-1323   \n",
              "\n",
              "       Occupation Annual_Income  Monthly_Inhand_Salary  Num_Bank_Accounts  \\\n",
              "80021    Mechanic       10037.5             577.458333                 10   \n",
              "97627   Architect      60446.62            5065.218333                  6   \n",
              "26563    Mechanic      42884.84                    NaN                  4   \n",
              "38748      Doctor     126026.19           10704.182500                  0   \n",
              "69404     _______      14535.49                    NaN                  7   \n",
              "46417   Architect      31937.62            2394.468333               1638   \n",
              "50122  Accountant      28582.04            2103.836667                  2   \n",
              "75654    Mechanic     118831.62                    NaN                  0   \n",
              "894      Musician      20188.02            1851.335000                  4   \n",
              "52185   Architect       61739.8            5247.983333                  3   \n",
              "\n",
              "       ...  Credit_Mix  Outstanding_Debt Credit_Utilization_Ratio  \\\n",
              "80021  ...         Bad            4618.9                33.057126   \n",
              "97627  ...           _            136.13                29.930856   \n",
              "26563  ...           _           1302.49                42.665073   \n",
              "38748  ...        Good           1475.49                33.024299   \n",
              "69404  ...         Bad            3607.6                25.149446   \n",
              "46417  ...    Standard           1934.42                24.572976   \n",
              "50122  ...           _             299.8                29.518825   \n",
              "75654  ...        Good           1406.77                36.410365   \n",
              "894    ...        Good            399.92                24.021682   \n",
              "52185  ...    Standard           1686.57                31.137996   \n",
              "\n",
              "          Credit_History_Age  Payment_of_Min_Amount Total_EMI_per_month  \\\n",
              "80021                    NaN                    Yes           66.992958   \n",
              "97627  13 Years and 6 Months                    Yes           78.571174   \n",
              "26563  30 Years and 2 Months                     No            0.000000   \n",
              "38748                    NaN                     No          250.116972   \n",
              "69404   4 Years and 0 Months                    Yes           53.039086   \n",
              "46417  9 Years and 10 Months                    Yes           35.389515   \n",
              "50122  15 Years and 9 Months                     No           41.460455   \n",
              "75654                    NaN                     No          138.438131   \n",
              "894    20 Years and 8 Months                     No           25.580281   \n",
              "52185  13 Years and 9 Months                    Yes           91.376421   \n",
              "\n",
              "      Amount_invested_monthly                 Payment_Behaviour  \\\n",
              "80021       32.85678017184008    Low_spent_Small_value_payments   \n",
              "97627       632.6600189696361    Low_spent_Small_value_payments   \n",
              "26563      58.146896215497996  High_spent_Medium_value_payments   \n",
              "38748       406.4528503176289   Low_spent_Medium_value_payments   \n",
              "69404       76.57281524959112    Low_spent_Small_value_payments   \n",
              "46417       37.65329192606056  High_spent_Medium_value_payments   \n",
              "50122      184.71955125414692   Low_spent_Medium_value_payments   \n",
              "75654                     NaN    Low_spent_Small_value_payments   \n",
              "894         50.96786774008395  High_spent_Medium_value_payments   \n",
              "52185      251.69324229637817   Low_spent_Medium_value_payments   \n",
              "\n",
              "          Monthly_Balance Credit_Score  \n",
              "80021  247.89609492923213     Standard  \n",
              "97627    85.2906407544994     Standard  \n",
              "26563   549.7267704511687         Poor  \n",
              "38748   693.8484276959856     Standard  \n",
              "69404  260.21718214096677         Poor  \n",
              "46417    416.404026695346         Poor  \n",
              "50122   264.2036600360899         Good  \n",
              "75654   37.52826615968854         Good  \n",
              "894    358.58535144409973         Good  \n",
              "52185  461.72867007285737         Poor  \n",
              "\n",
              "[10 rows x 28 columns]"
            ],
            "text/html": [
              "\n",
              "  <div id=\"df-0f1d43bb-5a22-4fe0-a1c6-5680fce09798\">\n",
              "    <div class=\"colab-df-container\">\n",
              "      <div>\n",
              "<style scoped>\n",
              "    .dataframe tbody tr th:only-of-type {\n",
              "        vertical-align: middle;\n",
              "    }\n",
              "\n",
              "    .dataframe tbody tr th {\n",
              "        vertical-align: top;\n",
              "    }\n",
              "\n",
              "    .dataframe thead th {\n",
              "        text-align: right;\n",
              "    }\n",
              "</style>\n",
              "<table border=\"1\" class=\"dataframe\">\n",
              "  <thead>\n",
              "    <tr style=\"text-align: right;\">\n",
              "      <th></th>\n",
              "      <th>ID</th>\n",
              "      <th>Customer_ID</th>\n",
              "      <th>Month</th>\n",
              "      <th>Name</th>\n",
              "      <th>Age</th>\n",
              "      <th>SSN</th>\n",
              "      <th>Occupation</th>\n",
              "      <th>Annual_Income</th>\n",
              "      <th>Monthly_Inhand_Salary</th>\n",
              "      <th>Num_Bank_Accounts</th>\n",
              "      <th>...</th>\n",
              "      <th>Credit_Mix</th>\n",
              "      <th>Outstanding_Debt</th>\n",
              "      <th>Credit_Utilization_Ratio</th>\n",
              "      <th>Credit_History_Age</th>\n",
              "      <th>Payment_of_Min_Amount</th>\n",
              "      <th>Total_EMI_per_month</th>\n",
              "      <th>Amount_invested_monthly</th>\n",
              "      <th>Payment_Behaviour</th>\n",
              "      <th>Monthly_Balance</th>\n",
              "      <th>Credit_Score</th>\n",
              "    </tr>\n",
              "  </thead>\n",
              "  <tbody>\n",
              "    <tr>\n",
              "      <th>80021</th>\n",
              "      <td>0x1eadf</td>\n",
              "      <td>CUS_0x1d58</td>\n",
              "      <td>June</td>\n",
              "      <td>Cheel</td>\n",
              "      <td>20</td>\n",
              "      <td>832-91-7166</td>\n",
              "      <td>Mechanic</td>\n",
              "      <td>10037.5</td>\n",
              "      <td>577.458333</td>\n",
              "      <td>10</td>\n",
              "      <td>...</td>\n",
              "      <td>Bad</td>\n",
              "      <td>4618.9</td>\n",
              "      <td>33.057126</td>\n",
              "      <td>NaN</td>\n",
              "      <td>Yes</td>\n",
              "      <td>66.992958</td>\n",
              "      <td>32.85678017184008</td>\n",
              "      <td>Low_spent_Small_value_payments</td>\n",
              "      <td>247.89609492923213</td>\n",
              "      <td>Standard</td>\n",
              "    </tr>\n",
              "    <tr>\n",
              "      <th>97627</th>\n",
              "      <td>0x25209</td>\n",
              "      <td>CUS_0x5cf2</td>\n",
              "      <td>April</td>\n",
              "      <td>Eva Kuehneno</td>\n",
              "      <td>33</td>\n",
              "      <td>949-81-4492</td>\n",
              "      <td>Architect</td>\n",
              "      <td>60446.62</td>\n",
              "      <td>5065.218333</td>\n",
              "      <td>6</td>\n",
              "      <td>...</td>\n",
              "      <td>_</td>\n",
              "      <td>136.13</td>\n",
              "      <td>29.930856</td>\n",
              "      <td>13 Years and 6 Months</td>\n",
              "      <td>Yes</td>\n",
              "      <td>78.571174</td>\n",
              "      <td>632.6600189696361</td>\n",
              "      <td>Low_spent_Small_value_payments</td>\n",
              "      <td>85.2906407544994</td>\n",
              "      <td>Standard</td>\n",
              "    </tr>\n",
              "    <tr>\n",
              "      <th>26563</th>\n",
              "      <td>0xb1a5</td>\n",
              "      <td>CUS_0x66c7</td>\n",
              "      <td>April</td>\n",
              "      <td>Piersong</td>\n",
              "      <td>24</td>\n",
              "      <td>192-92-9184</td>\n",
              "      <td>Mechanic</td>\n",
              "      <td>42884.84</td>\n",
              "      <td>NaN</td>\n",
              "      <td>4</td>\n",
              "      <td>...</td>\n",
              "      <td>_</td>\n",
              "      <td>1302.49</td>\n",
              "      <td>42.665073</td>\n",
              "      <td>30 Years and 2 Months</td>\n",
              "      <td>No</td>\n",
              "      <td>0.000000</td>\n",
              "      <td>58.146896215497996</td>\n",
              "      <td>High_spent_Medium_value_payments</td>\n",
              "      <td>549.7267704511687</td>\n",
              "      <td>Poor</td>\n",
              "    </tr>\n",
              "    <tr>\n",
              "      <th>38748</th>\n",
              "      <td>0xf90a</td>\n",
              "      <td>CUS_0x2ca8</td>\n",
              "      <td>May</td>\n",
              "      <td>Wayne Colel</td>\n",
              "      <td>21</td>\n",
              "      <td>531-62-7802</td>\n",
              "      <td>Doctor</td>\n",
              "      <td>126026.19</td>\n",
              "      <td>10704.182500</td>\n",
              "      <td>0</td>\n",
              "      <td>...</td>\n",
              "      <td>Good</td>\n",
              "      <td>1475.49</td>\n",
              "      <td>33.024299</td>\n",
              "      <td>NaN</td>\n",
              "      <td>No</td>\n",
              "      <td>250.116972</td>\n",
              "      <td>406.4528503176289</td>\n",
              "      <td>Low_spent_Medium_value_payments</td>\n",
              "      <td>693.8484276959856</td>\n",
              "      <td>Standard</td>\n",
              "    </tr>\n",
              "    <tr>\n",
              "      <th>69404</th>\n",
              "      <td>0x1acaa</td>\n",
              "      <td>CUS_0x275c</td>\n",
              "      <td>May</td>\n",
              "      <td>Ayeshas</td>\n",
              "      <td>43</td>\n",
              "      <td>525-44-6888</td>\n",
              "      <td>_______</td>\n",
              "      <td>14535.49</td>\n",
              "      <td>NaN</td>\n",
              "      <td>7</td>\n",
              "      <td>...</td>\n",
              "      <td>Bad</td>\n",
              "      <td>3607.6</td>\n",
              "      <td>25.149446</td>\n",
              "      <td>4 Years and 0 Months</td>\n",
              "      <td>Yes</td>\n",
              "      <td>53.039086</td>\n",
              "      <td>76.57281524959112</td>\n",
              "      <td>Low_spent_Small_value_payments</td>\n",
              "      <td>260.21718214096677</td>\n",
              "      <td>Poor</td>\n",
              "    </tr>\n",
              "    <tr>\n",
              "      <th>46417</th>\n",
              "      <td>0x125fb</td>\n",
              "      <td>CUS_0x2353</td>\n",
              "      <td>February</td>\n",
              "      <td>Sheahane</td>\n",
              "      <td>25_</td>\n",
              "      <td>496-79-8901</td>\n",
              "      <td>Architect</td>\n",
              "      <td>31937.62</td>\n",
              "      <td>2394.468333</td>\n",
              "      <td>1638</td>\n",
              "      <td>...</td>\n",
              "      <td>Standard</td>\n",
              "      <td>1934.42</td>\n",
              "      <td>24.572976</td>\n",
              "      <td>9 Years and 10 Months</td>\n",
              "      <td>Yes</td>\n",
              "      <td>35.389515</td>\n",
              "      <td>37.65329192606056</td>\n",
              "      <td>High_spent_Medium_value_payments</td>\n",
              "      <td>416.404026695346</td>\n",
              "      <td>Poor</td>\n",
              "    </tr>\n",
              "    <tr>\n",
              "      <th>50122</th>\n",
              "      <td>0x13bb0</td>\n",
              "      <td>CUS_0x9469</td>\n",
              "      <td>March</td>\n",
              "      <td>Mutikanix</td>\n",
              "      <td>26</td>\n",
              "      <td>517-43-4607</td>\n",
              "      <td>Accountant</td>\n",
              "      <td>28582.04</td>\n",
              "      <td>2103.836667</td>\n",
              "      <td>2</td>\n",
              "      <td>...</td>\n",
              "      <td>_</td>\n",
              "      <td>299.8</td>\n",
              "      <td>29.518825</td>\n",
              "      <td>15 Years and 9 Months</td>\n",
              "      <td>No</td>\n",
              "      <td>41.460455</td>\n",
              "      <td>184.71955125414692</td>\n",
              "      <td>Low_spent_Medium_value_payments</td>\n",
              "      <td>264.2036600360899</td>\n",
              "      <td>Good</td>\n",
              "    </tr>\n",
              "    <tr>\n",
              "      <th>75654</th>\n",
              "      <td>0x1d148</td>\n",
              "      <td>CUS_0x9f23</td>\n",
              "      <td>July</td>\n",
              "      <td>Neil Maidmentp</td>\n",
              "      <td>25</td>\n",
              "      <td>655-42-1269</td>\n",
              "      <td>Mechanic</td>\n",
              "      <td>118831.62</td>\n",
              "      <td>NaN</td>\n",
              "      <td>0</td>\n",
              "      <td>...</td>\n",
              "      <td>Good</td>\n",
              "      <td>1406.77</td>\n",
              "      <td>36.410365</td>\n",
              "      <td>NaN</td>\n",
              "      <td>No</td>\n",
              "      <td>138.438131</td>\n",
              "      <td>NaN</td>\n",
              "      <td>Low_spent_Small_value_payments</td>\n",
              "      <td>37.52826615968854</td>\n",
              "      <td>Good</td>\n",
              "    </tr>\n",
              "    <tr>\n",
              "      <th>894</th>\n",
              "      <td>0x1b3c</td>\n",
              "      <td>CUS_0x8c69</td>\n",
              "      <td>July</td>\n",
              "      <td>Toonkelf</td>\n",
              "      <td>25</td>\n",
              "      <td>070-07-9414</td>\n",
              "      <td>Musician</td>\n",
              "      <td>20188.02</td>\n",
              "      <td>1851.335000</td>\n",
              "      <td>4</td>\n",
              "      <td>...</td>\n",
              "      <td>Good</td>\n",
              "      <td>399.92</td>\n",
              "      <td>24.021682</td>\n",
              "      <td>20 Years and 8 Months</td>\n",
              "      <td>No</td>\n",
              "      <td>25.580281</td>\n",
              "      <td>50.96786774008395</td>\n",
              "      <td>High_spent_Medium_value_payments</td>\n",
              "      <td>358.58535144409973</td>\n",
              "      <td>Good</td>\n",
              "    </tr>\n",
              "    <tr>\n",
              "      <th>52185</th>\n",
              "      <td>0x147c7</td>\n",
              "      <td>CUS_0x275d</td>\n",
              "      <td>February</td>\n",
              "      <td>Papachristouq</td>\n",
              "      <td>32</td>\n",
              "      <td>257-48-1323</td>\n",
              "      <td>Architect</td>\n",
              "      <td>61739.8</td>\n",
              "      <td>5247.983333</td>\n",
              "      <td>3</td>\n",
              "      <td>...</td>\n",
              "      <td>Standard</td>\n",
              "      <td>1686.57</td>\n",
              "      <td>31.137996</td>\n",
              "      <td>13 Years and 9 Months</td>\n",
              "      <td>Yes</td>\n",
              "      <td>91.376421</td>\n",
              "      <td>251.69324229637817</td>\n",
              "      <td>Low_spent_Medium_value_payments</td>\n",
              "      <td>461.72867007285737</td>\n",
              "      <td>Poor</td>\n",
              "    </tr>\n",
              "  </tbody>\n",
              "</table>\n",
              "<p>10 rows × 28 columns</p>\n",
              "</div>\n",
              "      <button class=\"colab-df-convert\" onclick=\"convertToInteractive('df-0f1d43bb-5a22-4fe0-a1c6-5680fce09798')\"\n",
              "              title=\"Convert this dataframe to an interactive table.\"\n",
              "              style=\"display:none;\">\n",
              "        \n",
              "  <svg xmlns=\"http://www.w3.org/2000/svg\" height=\"24px\"viewBox=\"0 0 24 24\"\n",
              "       width=\"24px\">\n",
              "    <path d=\"M0 0h24v24H0V0z\" fill=\"none\"/>\n",
              "    <path d=\"M18.56 5.44l.94 2.06.94-2.06 2.06-.94-2.06-.94-.94-2.06-.94 2.06-2.06.94zm-11 1L8.5 8.5l.94-2.06 2.06-.94-2.06-.94L8.5 2.5l-.94 2.06-2.06.94zm10 10l.94 2.06.94-2.06 2.06-.94-2.06-.94-.94-2.06-.94 2.06-2.06.94z\"/><path d=\"M17.41 7.96l-1.37-1.37c-.4-.4-.92-.59-1.43-.59-.52 0-1.04.2-1.43.59L10.3 9.45l-7.72 7.72c-.78.78-.78 2.05 0 2.83L4 21.41c.39.39.9.59 1.41.59.51 0 1.02-.2 1.41-.59l7.78-7.78 2.81-2.81c.8-.78.8-2.07 0-2.86zM5.41 20L4 18.59l7.72-7.72 1.47 1.35L5.41 20z\"/>\n",
              "  </svg>\n",
              "      </button>\n",
              "      \n",
              "  <style>\n",
              "    .colab-df-container {\n",
              "      display:flex;\n",
              "      flex-wrap:wrap;\n",
              "      gap: 12px;\n",
              "    }\n",
              "\n",
              "    .colab-df-convert {\n",
              "      background-color: #E8F0FE;\n",
              "      border: none;\n",
              "      border-radius: 50%;\n",
              "      cursor: pointer;\n",
              "      display: none;\n",
              "      fill: #1967D2;\n",
              "      height: 32px;\n",
              "      padding: 0 0 0 0;\n",
              "      width: 32px;\n",
              "    }\n",
              "\n",
              "    .colab-df-convert:hover {\n",
              "      background-color: #E2EBFA;\n",
              "      box-shadow: 0px 1px 2px rgba(60, 64, 67, 0.3), 0px 1px 3px 1px rgba(60, 64, 67, 0.15);\n",
              "      fill: #174EA6;\n",
              "    }\n",
              "\n",
              "    [theme=dark] .colab-df-convert {\n",
              "      background-color: #3B4455;\n",
              "      fill: #D2E3FC;\n",
              "    }\n",
              "\n",
              "    [theme=dark] .colab-df-convert:hover {\n",
              "      background-color: #434B5C;\n",
              "      box-shadow: 0px 1px 3px 1px rgba(0, 0, 0, 0.15);\n",
              "      filter: drop-shadow(0px 1px 2px rgba(0, 0, 0, 0.3));\n",
              "      fill: #FFFFFF;\n",
              "    }\n",
              "  </style>\n",
              "\n",
              "      <script>\n",
              "        const buttonEl =\n",
              "          document.querySelector('#df-0f1d43bb-5a22-4fe0-a1c6-5680fce09798 button.colab-df-convert');\n",
              "        buttonEl.style.display =\n",
              "          google.colab.kernel.accessAllowed ? 'block' : 'none';\n",
              "\n",
              "        async function convertToInteractive(key) {\n",
              "          const element = document.querySelector('#df-0f1d43bb-5a22-4fe0-a1c6-5680fce09798');\n",
              "          const dataTable =\n",
              "            await google.colab.kernel.invokeFunction('convertToInteractive',\n",
              "                                                     [key], {});\n",
              "          if (!dataTable) return;\n",
              "\n",
              "          const docLinkHtml = 'Like what you see? Visit the ' +\n",
              "            '<a target=\"_blank\" href=https://colab.research.google.com/notebooks/data_table.ipynb>data table notebook</a>'\n",
              "            + ' to learn more about interactive tables.';\n",
              "          element.innerHTML = '';\n",
              "          dataTable['output_type'] = 'display_data';\n",
              "          await google.colab.output.renderOutput(dataTable, element);\n",
              "          const docLink = document.createElement('div');\n",
              "          docLink.innerHTML = docLinkHtml;\n",
              "          element.appendChild(docLink);\n",
              "        }\n",
              "      </script>\n",
              "    </div>\n",
              "  </div>\n",
              "  "
            ]
          },
          "metadata": {},
          "execution_count": 11
        }
      ],
      "id": "uyo6l6EYj2X1"
    },
    {
      "cell_type": "markdown",
      "source": [
        "## Data Exploration"
      ],
      "metadata": {
        "id": "6j5OfGEYj2X3"
      },
      "id": "6j5OfGEYj2X3"
    },
    {
      "cell_type": "code",
      "source": [
        "df.shape"
      ],
      "metadata": {
        "execution": {
          "iopub.status.busy": "2022-10-15T05:44:13.174459Z",
          "iopub.execute_input": "2022-10-15T05:44:13.174781Z",
          "iopub.status.idle": "2022-10-15T05:44:13.180380Z",
          "shell.execute_reply.started": "2022-10-15T05:44:13.174740Z",
          "shell.execute_reply": "2022-10-15T05:44:13.179475Z"
        },
        "trusted": true,
        "id": "7b3YLwC2j2X4",
        "outputId": "76758776-cbc9-41ca-b5b5-b4c67b9e5128",
        "colab": {
          "base_uri": "https://localhost:8080/"
        }
      },
      "execution_count": null,
      "outputs": [
        {
          "output_type": "execute_result",
          "data": {
            "text/plain": [
              "(100000, 28)"
            ]
          },
          "metadata": {},
          "execution_count": 12
        }
      ],
      "id": "7b3YLwC2j2X4"
    },
    {
      "cell_type": "code",
      "source": [
        "df.info()"
      ],
      "metadata": {
        "execution": {
          "iopub.status.busy": "2022-10-15T05:44:13.181696Z",
          "iopub.execute_input": "2022-10-15T05:44:13.182211Z",
          "iopub.status.idle": "2022-10-15T05:44:13.302574Z",
          "shell.execute_reply.started": "2022-10-15T05:44:13.182182Z",
          "shell.execute_reply": "2022-10-15T05:44:13.301984Z"
        },
        "trusted": true,
        "id": "0wwxq7qzj2X5",
        "outputId": "8f344bb4-55da-4776-eb65-4ef21510d396",
        "colab": {
          "base_uri": "https://localhost:8080/"
        }
      },
      "execution_count": null,
      "outputs": [
        {
          "output_type": "stream",
          "name": "stdout",
          "text": [
            "<class 'pandas.core.frame.DataFrame'>\n",
            "RangeIndex: 100000 entries, 0 to 99999\n",
            "Data columns (total 28 columns):\n",
            " #   Column                    Non-Null Count   Dtype  \n",
            "---  ------                    --------------   -----  \n",
            " 0   ID                        100000 non-null  object \n",
            " 1   Customer_ID               100000 non-null  object \n",
            " 2   Month                     100000 non-null  object \n",
            " 3   Name                      90015 non-null   object \n",
            " 4   Age                       100000 non-null  object \n",
            " 5   SSN                       100000 non-null  object \n",
            " 6   Occupation                100000 non-null  object \n",
            " 7   Annual_Income             100000 non-null  object \n",
            " 8   Monthly_Inhand_Salary     84998 non-null   float64\n",
            " 9   Num_Bank_Accounts         100000 non-null  int64  \n",
            " 10  Num_Credit_Card           100000 non-null  int64  \n",
            " 11  Interest_Rate             100000 non-null  int64  \n",
            " 12  Num_of_Loan               100000 non-null  object \n",
            " 13  Type_of_Loan              88592 non-null   object \n",
            " 14  Delay_from_due_date       100000 non-null  int64  \n",
            " 15  Num_of_Delayed_Payment    92998 non-null   object \n",
            " 16  Changed_Credit_Limit      100000 non-null  object \n",
            " 17  Num_Credit_Inquiries      98035 non-null   float64\n",
            " 18  Credit_Mix                100000 non-null  object \n",
            " 19  Outstanding_Debt          100000 non-null  object \n",
            " 20  Credit_Utilization_Ratio  100000 non-null  float64\n",
            " 21  Credit_History_Age        90970 non-null   object \n",
            " 22  Payment_of_Min_Amount     100000 non-null  object \n",
            " 23  Total_EMI_per_month       100000 non-null  float64\n",
            " 24  Amount_invested_monthly   95521 non-null   object \n",
            " 25  Payment_Behaviour         100000 non-null  object \n",
            " 26  Monthly_Balance           98800 non-null   object \n",
            " 27  Credit_Score              100000 non-null  object \n",
            "dtypes: float64(4), int64(4), object(20)\n",
            "memory usage: 21.4+ MB\n"
          ]
        }
      ],
      "id": "0wwxq7qzj2X5"
    },
    {
      "cell_type": "code",
      "source": [
        "df.describe()"
      ],
      "metadata": {
        "execution": {
          "iopub.status.busy": "2022-10-15T05:44:13.303729Z",
          "iopub.execute_input": "2022-10-15T05:44:13.304143Z",
          "iopub.status.idle": "2022-10-15T05:44:13.358928Z",
          "shell.execute_reply.started": "2022-10-15T05:44:13.304092Z",
          "shell.execute_reply": "2022-10-15T05:44:13.358355Z"
        },
        "trusted": true,
        "id": "kw7H_GgJj2X5",
        "outputId": "080fa1ac-4485-40e8-9eba-808de833c8f1",
        "colab": {
          "base_uri": "https://localhost:8080/",
          "height": 300
        }
      },
      "execution_count": null,
      "outputs": [
        {
          "output_type": "execute_result",
          "data": {
            "text/plain": [
              "       Monthly_Inhand_Salary  Num_Bank_Accounts  Num_Credit_Card  \\\n",
              "count           84998.000000      100000.000000     100000.00000   \n",
              "mean             4194.170850          17.091280         22.47443   \n",
              "std              3183.686167         117.404834        129.05741   \n",
              "min               303.645417          -1.000000          0.00000   \n",
              "25%              1625.568229           3.000000          4.00000   \n",
              "50%              3093.745000           6.000000          5.00000   \n",
              "75%              5957.448333           7.000000          7.00000   \n",
              "max             15204.633333        1798.000000       1499.00000   \n",
              "\n",
              "       Interest_Rate  Delay_from_due_date  Num_Credit_Inquiries  \\\n",
              "count  100000.000000        100000.000000          98035.000000   \n",
              "mean       72.466040            21.068780             27.754251   \n",
              "std       466.422621            14.860104            193.177339   \n",
              "min         1.000000            -5.000000              0.000000   \n",
              "25%         8.000000            10.000000              3.000000   \n",
              "50%        13.000000            18.000000              6.000000   \n",
              "75%        20.000000            28.000000              9.000000   \n",
              "max      5797.000000            67.000000           2597.000000   \n",
              "\n",
              "       Credit_Utilization_Ratio  Total_EMI_per_month  \n",
              "count             100000.000000        100000.000000  \n",
              "mean                  32.285173          1403.118217  \n",
              "std                    5.116875          8306.041270  \n",
              "min                   20.000000             0.000000  \n",
              "25%                   28.052567            30.306660  \n",
              "50%                   32.305784            69.249473  \n",
              "75%                   36.496663           161.224249  \n",
              "max                   50.000000         82331.000000  "
            ],
            "text/html": [
              "\n",
              "  <div id=\"df-f630cf1a-3a1a-4d13-9e7e-f46f7947dc76\">\n",
              "    <div class=\"colab-df-container\">\n",
              "      <div>\n",
              "<style scoped>\n",
              "    .dataframe tbody tr th:only-of-type {\n",
              "        vertical-align: middle;\n",
              "    }\n",
              "\n",
              "    .dataframe tbody tr th {\n",
              "        vertical-align: top;\n",
              "    }\n",
              "\n",
              "    .dataframe thead th {\n",
              "        text-align: right;\n",
              "    }\n",
              "</style>\n",
              "<table border=\"1\" class=\"dataframe\">\n",
              "  <thead>\n",
              "    <tr style=\"text-align: right;\">\n",
              "      <th></th>\n",
              "      <th>Monthly_Inhand_Salary</th>\n",
              "      <th>Num_Bank_Accounts</th>\n",
              "      <th>Num_Credit_Card</th>\n",
              "      <th>Interest_Rate</th>\n",
              "      <th>Delay_from_due_date</th>\n",
              "      <th>Num_Credit_Inquiries</th>\n",
              "      <th>Credit_Utilization_Ratio</th>\n",
              "      <th>Total_EMI_per_month</th>\n",
              "    </tr>\n",
              "  </thead>\n",
              "  <tbody>\n",
              "    <tr>\n",
              "      <th>count</th>\n",
              "      <td>84998.000000</td>\n",
              "      <td>100000.000000</td>\n",
              "      <td>100000.00000</td>\n",
              "      <td>100000.000000</td>\n",
              "      <td>100000.000000</td>\n",
              "      <td>98035.000000</td>\n",
              "      <td>100000.000000</td>\n",
              "      <td>100000.000000</td>\n",
              "    </tr>\n",
              "    <tr>\n",
              "      <th>mean</th>\n",
              "      <td>4194.170850</td>\n",
              "      <td>17.091280</td>\n",
              "      <td>22.47443</td>\n",
              "      <td>72.466040</td>\n",
              "      <td>21.068780</td>\n",
              "      <td>27.754251</td>\n",
              "      <td>32.285173</td>\n",
              "      <td>1403.118217</td>\n",
              "    </tr>\n",
              "    <tr>\n",
              "      <th>std</th>\n",
              "      <td>3183.686167</td>\n",
              "      <td>117.404834</td>\n",
              "      <td>129.05741</td>\n",
              "      <td>466.422621</td>\n",
              "      <td>14.860104</td>\n",
              "      <td>193.177339</td>\n",
              "      <td>5.116875</td>\n",
              "      <td>8306.041270</td>\n",
              "    </tr>\n",
              "    <tr>\n",
              "      <th>min</th>\n",
              "      <td>303.645417</td>\n",
              "      <td>-1.000000</td>\n",
              "      <td>0.00000</td>\n",
              "      <td>1.000000</td>\n",
              "      <td>-5.000000</td>\n",
              "      <td>0.000000</td>\n",
              "      <td>20.000000</td>\n",
              "      <td>0.000000</td>\n",
              "    </tr>\n",
              "    <tr>\n",
              "      <th>25%</th>\n",
              "      <td>1625.568229</td>\n",
              "      <td>3.000000</td>\n",
              "      <td>4.00000</td>\n",
              "      <td>8.000000</td>\n",
              "      <td>10.000000</td>\n",
              "      <td>3.000000</td>\n",
              "      <td>28.052567</td>\n",
              "      <td>30.306660</td>\n",
              "    </tr>\n",
              "    <tr>\n",
              "      <th>50%</th>\n",
              "      <td>3093.745000</td>\n",
              "      <td>6.000000</td>\n",
              "      <td>5.00000</td>\n",
              "      <td>13.000000</td>\n",
              "      <td>18.000000</td>\n",
              "      <td>6.000000</td>\n",
              "      <td>32.305784</td>\n",
              "      <td>69.249473</td>\n",
              "    </tr>\n",
              "    <tr>\n",
              "      <th>75%</th>\n",
              "      <td>5957.448333</td>\n",
              "      <td>7.000000</td>\n",
              "      <td>7.00000</td>\n",
              "      <td>20.000000</td>\n",
              "      <td>28.000000</td>\n",
              "      <td>9.000000</td>\n",
              "      <td>36.496663</td>\n",
              "      <td>161.224249</td>\n",
              "    </tr>\n",
              "    <tr>\n",
              "      <th>max</th>\n",
              "      <td>15204.633333</td>\n",
              "      <td>1798.000000</td>\n",
              "      <td>1499.00000</td>\n",
              "      <td>5797.000000</td>\n",
              "      <td>67.000000</td>\n",
              "      <td>2597.000000</td>\n",
              "      <td>50.000000</td>\n",
              "      <td>82331.000000</td>\n",
              "    </tr>\n",
              "  </tbody>\n",
              "</table>\n",
              "</div>\n",
              "      <button class=\"colab-df-convert\" onclick=\"convertToInteractive('df-f630cf1a-3a1a-4d13-9e7e-f46f7947dc76')\"\n",
              "              title=\"Convert this dataframe to an interactive table.\"\n",
              "              style=\"display:none;\">\n",
              "        \n",
              "  <svg xmlns=\"http://www.w3.org/2000/svg\" height=\"24px\"viewBox=\"0 0 24 24\"\n",
              "       width=\"24px\">\n",
              "    <path d=\"M0 0h24v24H0V0z\" fill=\"none\"/>\n",
              "    <path d=\"M18.56 5.44l.94 2.06.94-2.06 2.06-.94-2.06-.94-.94-2.06-.94 2.06-2.06.94zm-11 1L8.5 8.5l.94-2.06 2.06-.94-2.06-.94L8.5 2.5l-.94 2.06-2.06.94zm10 10l.94 2.06.94-2.06 2.06-.94-2.06-.94-.94-2.06-.94 2.06-2.06.94z\"/><path d=\"M17.41 7.96l-1.37-1.37c-.4-.4-.92-.59-1.43-.59-.52 0-1.04.2-1.43.59L10.3 9.45l-7.72 7.72c-.78.78-.78 2.05 0 2.83L4 21.41c.39.39.9.59 1.41.59.51 0 1.02-.2 1.41-.59l7.78-7.78 2.81-2.81c.8-.78.8-2.07 0-2.86zM5.41 20L4 18.59l7.72-7.72 1.47 1.35L5.41 20z\"/>\n",
              "  </svg>\n",
              "      </button>\n",
              "      \n",
              "  <style>\n",
              "    .colab-df-container {\n",
              "      display:flex;\n",
              "      flex-wrap:wrap;\n",
              "      gap: 12px;\n",
              "    }\n",
              "\n",
              "    .colab-df-convert {\n",
              "      background-color: #E8F0FE;\n",
              "      border: none;\n",
              "      border-radius: 50%;\n",
              "      cursor: pointer;\n",
              "      display: none;\n",
              "      fill: #1967D2;\n",
              "      height: 32px;\n",
              "      padding: 0 0 0 0;\n",
              "      width: 32px;\n",
              "    }\n",
              "\n",
              "    .colab-df-convert:hover {\n",
              "      background-color: #E2EBFA;\n",
              "      box-shadow: 0px 1px 2px rgba(60, 64, 67, 0.3), 0px 1px 3px 1px rgba(60, 64, 67, 0.15);\n",
              "      fill: #174EA6;\n",
              "    }\n",
              "\n",
              "    [theme=dark] .colab-df-convert {\n",
              "      background-color: #3B4455;\n",
              "      fill: #D2E3FC;\n",
              "    }\n",
              "\n",
              "    [theme=dark] .colab-df-convert:hover {\n",
              "      background-color: #434B5C;\n",
              "      box-shadow: 0px 1px 3px 1px rgba(0, 0, 0, 0.15);\n",
              "      filter: drop-shadow(0px 1px 2px rgba(0, 0, 0, 0.3));\n",
              "      fill: #FFFFFF;\n",
              "    }\n",
              "  </style>\n",
              "\n",
              "      <script>\n",
              "        const buttonEl =\n",
              "          document.querySelector('#df-f630cf1a-3a1a-4d13-9e7e-f46f7947dc76 button.colab-df-convert');\n",
              "        buttonEl.style.display =\n",
              "          google.colab.kernel.accessAllowed ? 'block' : 'none';\n",
              "\n",
              "        async function convertToInteractive(key) {\n",
              "          const element = document.querySelector('#df-f630cf1a-3a1a-4d13-9e7e-f46f7947dc76');\n",
              "          const dataTable =\n",
              "            await google.colab.kernel.invokeFunction('convertToInteractive',\n",
              "                                                     [key], {});\n",
              "          if (!dataTable) return;\n",
              "\n",
              "          const docLinkHtml = 'Like what you see? Visit the ' +\n",
              "            '<a target=\"_blank\" href=https://colab.research.google.com/notebooks/data_table.ipynb>data table notebook</a>'\n",
              "            + ' to learn more about interactive tables.';\n",
              "          element.innerHTML = '';\n",
              "          dataTable['output_type'] = 'display_data';\n",
              "          await google.colab.output.renderOutput(dataTable, element);\n",
              "          const docLink = document.createElement('div');\n",
              "          docLink.innerHTML = docLinkHtml;\n",
              "          element.appendChild(docLink);\n",
              "        }\n",
              "      </script>\n",
              "    </div>\n",
              "  </div>\n",
              "  "
            ]
          },
          "metadata": {},
          "execution_count": 14
        }
      ],
      "id": "kw7H_GgJj2X5"
    },
    {
      "cell_type": "code",
      "source": [
        "df.duplicated().sum()"
      ],
      "metadata": {
        "execution": {
          "iopub.status.busy": "2022-10-15T05:44:13.360219Z",
          "iopub.execute_input": "2022-10-15T05:44:13.360497Z",
          "iopub.status.idle": "2022-10-15T05:44:13.640611Z",
          "shell.execute_reply.started": "2022-10-15T05:44:13.360471Z",
          "shell.execute_reply": "2022-10-15T05:44:13.639734Z"
        },
        "trusted": true,
        "id": "Gypnrx3uj2X6",
        "outputId": "a6f312be-e181-4c91-d371-732630411a30",
        "colab": {
          "base_uri": "https://localhost:8080/"
        }
      },
      "execution_count": null,
      "outputs": [
        {
          "output_type": "execute_result",
          "data": {
            "text/plain": [
              "0"
            ]
          },
          "metadata": {},
          "execution_count": 15
        }
      ],
      "id": "Gypnrx3uj2X6"
    },
    {
      "cell_type": "markdown",
      "source": [
        "# Plotting The Target "
      ],
      "metadata": {
        "id": "97ByAifOj2X-"
      },
      "id": "97ByAifOj2X-"
    },
    {
      "cell_type": "code",
      "source": [
        "df['Credit_Score'].value_counts(normalize=True)"
      ],
      "metadata": {
        "execution": {
          "iopub.status.busy": "2022-10-15T05:44:15.876881Z",
          "iopub.execute_input": "2022-10-15T05:44:15.877130Z",
          "iopub.status.idle": "2022-10-15T05:44:15.888635Z",
          "shell.execute_reply.started": "2022-10-15T05:44:15.877100Z",
          "shell.execute_reply": "2022-10-15T05:44:15.887931Z"
        },
        "trusted": true,
        "id": "BdCRH3oNj2X_",
        "outputId": "1982c590-499e-4b4e-b10d-9c8761a770f7",
        "colab": {
          "base_uri": "https://localhost:8080/"
        }
      },
      "execution_count": null,
      "outputs": [
        {
          "output_type": "execute_result",
          "data": {
            "text/plain": [
              "Standard    0.53174\n",
              "Poor        0.28998\n",
              "Good        0.17828\n",
              "Name: Credit_Score, dtype: float64"
            ]
          },
          "metadata": {},
          "execution_count": 22
        }
      ],
      "id": "BdCRH3oNj2X_"
    },
    {
      "cell_type": "code",
      "source": [
        "sns.distplot(df['Monthly_Inhand_Salary']);"
      ],
      "metadata": {
        "execution": {
          "iopub.status.busy": "2022-10-15T05:44:15.889695Z",
          "iopub.execute_input": "2022-10-15T05:44:15.889927Z",
          "iopub.status.idle": "2022-10-15T05:44:16.876143Z",
          "shell.execute_reply.started": "2022-10-15T05:44:15.889901Z",
          "shell.execute_reply": "2022-10-15T05:44:16.875232Z"
        },
        "trusted": true,
        "id": "2QsohqBpj2X_",
        "outputId": "c8b120a0-4908-4ee9-9465-fe80cba9063a",
        "colab": {
          "base_uri": "https://localhost:8080/",
          "height": 632
        }
      },
      "execution_count": null,
      "outputs": [
        {
          "output_type": "display_data",
          "data": {
            "text/plain": [
              "<Figure size 1400x700 with 1 Axes>"
            ],
            "image/png": "[encoded data removed]"
          },
          "metadata": {}
        }
      ],
      "id": "2QsohqBpj2X_"
    },
    {
      "cell_type": "code",
      "source": [
        "sns.distplot(df['Num_Bank_Accounts']);"
      ],
      "metadata": {
        "execution": {
          "iopub.status.busy": "2022-10-15T05:44:16.877581Z",
          "iopub.execute_input": "2022-10-15T05:44:16.877844Z",
          "iopub.status.idle": "2022-10-15T05:44:17.832415Z",
          "shell.execute_reply.started": "2022-10-15T05:44:16.877813Z",
          "shell.execute_reply": "2022-10-15T05:44:17.831404Z"
        },
        "trusted": true,
        "id": "9g7P6g_Bj2YA",
        "outputId": "d739daf6-bd3d-4fe0-e44e-e58113006db9",
        "colab": {
          "base_uri": "https://localhost:8080/",
          "height": 632
        }
      },
      "execution_count": null,
      "outputs": [
        {
          "output_type": "display_data",
          "data": {
            "text/plain": [
              "<Figure size 1400x700 with 1 Axes>"
            ],
            "image/png": "[encoded data removed]"
          },
          "metadata": {}
        }
      ],
      "id": "9g7P6g_Bj2YA"
    },
    {
      "cell_type": "code",
      "source": [
        "sns.distplot(df['Num_Credit_Card']);"
      ],
      "metadata": {
        "execution": {
          "iopub.status.busy": "2022-10-15T05:44:17.833847Z",
          "iopub.execute_input": "2022-10-15T05:44:17.834382Z",
          "iopub.status.idle": "2022-10-15T05:44:18.802282Z",
          "shell.execute_reply.started": "2022-10-15T05:44:17.834326Z",
          "shell.execute_reply": "2022-10-15T05:44:18.801485Z"
        },
        "trusted": true,
        "id": "EUD7lcl_j2YB",
        "outputId": "73a9dca9-5b7c-4385-e801-deca30da59d3",
        "colab": {
          "base_uri": "https://localhost:8080/",
          "height": 632
        }
      },
      "execution_count": null,
      "outputs": [
        {
          "output_type": "display_data",
          "data": {
            "text/plain": [
              "<Figure size 1400x700 with 1 Axes>"
            ],
            "image/png": "[encoded data removed]"
          },
          "metadata": {}
        }
      ],
      "id": "EUD7lcl_j2YB"
    },
    {
      "cell_type": "code",
      "source": [
        "sns.distplot(df['Interest_Rate']);"
      ],
      "metadata": {
        "execution": {
          "iopub.status.busy": "2022-10-15T05:44:18.803303Z",
          "iopub.execute_input": "2022-10-15T05:44:18.803517Z",
          "iopub.status.idle": "2022-10-15T05:44:19.769181Z",
          "shell.execute_reply.started": "2022-10-15T05:44:18.803492Z",
          "shell.execute_reply": "2022-10-15T05:44:19.768555Z"
        },
        "trusted": true,
        "id": "XpJJsMtOj2YB",
        "outputId": "1126f33c-37df-4bbe-8504-eecfff4152c8",
        "colab": {
          "base_uri": "https://localhost:8080/",
          "height": 631
        }
      },
      "execution_count": null,
      "outputs": [
        {
          "output_type": "display_data",
          "data": {
            "text/plain": [
              "<Figure size 1400x700 with 1 Axes>"
            ],
            "image/png": "[encoded data removed]"
          },
          "metadata": {}
        }
      ],
      "id": "XpJJsMtOj2YB"
    },
    {
      "cell_type": "code",
      "source": [
        "sns.distplot(df['Delay_from_due_date']);"
      ],
      "metadata": {
        "execution": {
          "iopub.status.busy": "2022-10-15T05:44:19.770533Z",
          "iopub.execute_input": "2022-10-15T05:44:19.770987Z",
          "iopub.status.idle": "2022-10-15T05:44:20.820131Z",
          "shell.execute_reply.started": "2022-10-15T05:44:19.770954Z",
          "shell.execute_reply": "2022-10-15T05:44:20.819215Z"
        },
        "trusted": true,
        "id": "8kP37Nydj2YC",
        "outputId": "a7ed1ed2-393a-47f9-82fa-77a8c07fbaaf",
        "colab": {
          "base_uri": "https://localhost:8080/",
          "height": 635
        }
      },
      "execution_count": null,
      "outputs": [
        {
          "output_type": "display_data",
          "data": {
            "text/plain": [
              "<Figure size 1400x700 with 1 Axes>"
            ],
            "image/png": "[encoded data removed]"
          },
          "metadata": {}
        }
      ],
      "id": "8kP37Nydj2YC"
    },
    {
      "cell_type": "code",
      "source": [
        "sns.distplot(df['Num_Credit_Inquiries']);"
      ],
      "metadata": {
        "execution": {
          "iopub.status.busy": "2022-10-15T05:44:20.821218Z",
          "iopub.execute_input": "2022-10-15T05:44:20.821478Z",
          "iopub.status.idle": "2022-10-15T05:44:21.755949Z",
          "shell.execute_reply.started": "2022-10-15T05:44:20.821449Z",
          "shell.execute_reply": "2022-10-15T05:44:21.755368Z"
        },
        "trusted": true,
        "id": "cVcJDL0aj2YC",
        "outputId": "3254c05f-b3aa-4589-cfa2-c52099ac813a",
        "colab": {
          "base_uri": "https://localhost:8080/",
          "height": 632
        }
      },
      "execution_count": null,
      "outputs": [
        {
          "output_type": "display_data",
          "data": {
            "text/plain": [
              "<Figure size 1400x700 with 1 Axes>"
            ],
            "image/png": "[encoded data removed]"
          },
          "metadata": {}
        }
      ],
      "id": "cVcJDL0aj2YC"
    },
    {
      "cell_type": "code",
      "source": [
        "sns.distplot(df['Credit_Utilization_Ratio']);"
      ],
      "metadata": {
        "execution": {
          "iopub.status.busy": "2022-10-15T05:44:21.756928Z",
          "iopub.execute_input": "2022-10-15T05:44:21.757618Z",
          "iopub.status.idle": "2022-10-15T05:44:22.944130Z",
          "shell.execute_reply.started": "2022-10-15T05:44:21.757585Z",
          "shell.execute_reply": "2022-10-15T05:44:22.943246Z"
        },
        "trusted": true,
        "id": "Xz_y1G1uj2YD",
        "outputId": "2c3c66ca-9a5f-40eb-9525-4fc1d0f8cf9e",
        "colab": {
          "base_uri": "https://localhost:8080/",
          "height": 632
        }
      },
      "execution_count": null,
      "outputs": [
        {
          "output_type": "display_data",
          "data": {
            "text/plain": [
              "<Figure size 1400x700 with 1 Axes>"
            ],
            "image/png": "[encoded data removed]"
          },
          "metadata": {}
        }
      ],
      "id": "Xz_y1G1uj2YD"
    },
    {
      "cell_type": "code",
      "source": [
        "sns.distplot(df['Total_EMI_per_month']);"
      ],
      "metadata": {
        "execution": {
          "iopub.status.busy": "2022-10-15T05:44:22.945296Z",
          "iopub.execute_input": "2022-10-15T05:44:22.945532Z",
          "iopub.status.idle": "2022-10-15T05:44:23.908248Z",
          "shell.execute_reply.started": "2022-10-15T05:44:22.945504Z",
          "shell.execute_reply": "2022-10-15T05:44:23.907593Z"
        },
        "trusted": true,
        "id": "xiNDYOh1j2YD",
        "outputId": "40eff6ef-cd6b-4004-fa9d-6f3e28f491f3",
        "colab": {
          "base_uri": "https://localhost:8080/",
          "height": 632
        }
      },
      "execution_count": null,
      "outputs": [
        {
          "output_type": "display_data",
          "data": {
            "text/plain": [
              "<Figure size 1400x700 with 1 Axes>"
            ],
            "image/png": "[encoded data removed]"
          },
          "metadata": {}
        }
      ],
      "id": "xiNDYOh1j2YD"
    },
    {
      "cell_type": "code",
      "source": [
        "df['Type_of_Loan'].value_counts().head(10)"
      ],
      "metadata": {
        "execution": {
          "iopub.status.busy": "2022-10-15T05:44:23.909463Z",
          "iopub.execute_input": "2022-10-15T05:44:23.909824Z",
          "iopub.status.idle": "2022-10-15T05:44:23.925978Z",
          "shell.execute_reply.started": "2022-10-15T05:44:23.909781Z",
          "shell.execute_reply": "2022-10-15T05:44:23.924714Z"
        },
        "trusted": true,
        "id": "Sj5Vm9PEj2YD",
        "outputId": "a5beb1b1-a680-4d36-8bd6-5833872e9f0d",
        "colab": {
          "base_uri": "https://localhost:8080/"
        }
      },
      "execution_count": null,
      "outputs": [
        {
          "output_type": "execute_result",
          "data": {
            "text/plain": [
              "Not Specified                      1408\n",
              "Credit-Builder Loan                1280\n",
              "Personal Loan                      1272\n",
              "Debt Consolidation Loan            1264\n",
              "Student Loan                       1240\n",
              "Payday Loan                        1200\n",
              "Mortgage Loan                      1176\n",
              "Auto Loan                          1152\n",
              "Home Equity Loan                   1136\n",
              "Personal Loan, and Student Loan     320\n",
              "Name: Type_of_Loan, dtype: int64"
            ]
          },
          "metadata": {},
          "execution_count": 31
        }
      ],
      "id": "Sj5Vm9PEj2YD"
    },
    {
      "cell_type": "markdown",
      "source": [
        "## Data cleaning"
      ],
      "metadata": {
        "id": "vXRRs9K0j2YF"
      },
      "id": "vXRRs9K0j2YF"
    },
    {
      "cell_type": "markdown",
      "source": [
        "#### removing unuseful Columns (Uniques)"
      ],
      "metadata": {
        "id": "WPJL0tf5j2YF"
      },
      "id": "WPJL0tf5j2YF"
    },
    {
      "cell_type": "code",
      "source": [
        "del df['ID'] # Identification \n",
        "del df['Name'] # Name of client \n",
        "del df['SSN'] # SSN (social security number of a person)"
      ],
      "metadata": {
        "execution": {
          "iopub.status.busy": "2022-10-15T05:44:23.927332Z",
          "iopub.execute_input": "2022-10-15T05:44:23.927602Z",
          "iopub.status.idle": "2022-10-15T05:44:23.941231Z",
          "shell.execute_reply.started": "2022-10-15T05:44:23.927567Z",
          "shell.execute_reply": "2022-10-15T05:44:23.940350Z"
        },
        "trusted": true,
        "id": "K4Y0EHjkj2YF"
      },
      "execution_count": null,
      "outputs": [],
      "id": "K4Y0EHjkj2YF"
    },
    {
      "cell_type": "markdown",
      "source": [
        "#### Fix Numerical Columns "
      ],
      "metadata": {
        "id": "fWpNuq4Hj2YG"
      },
      "id": "fWpNuq4Hj2YG"
    },
    {
      "cell_type": "code",
      "source": [
        "N_to_fix = ['Age', 'Annual_Income', 'Num_of_Loan', 'Num_of_Delayed_Payment', 'Changed_Credit_Limit', 'Amount_invested_monthly', 'Outstanding_Debt' , 'Monthly_Balance']"
      ],
      "metadata": {
        "execution": {
          "iopub.status.busy": "2022-10-15T05:44:23.942898Z",
          "iopub.execute_input": "2022-10-15T05:44:23.943198Z",
          "iopub.status.idle": "2022-10-15T05:44:23.954460Z",
          "shell.execute_reply.started": "2022-10-15T05:44:23.943163Z",
          "shell.execute_reply": "2022-10-15T05:44:23.953389Z"
        },
        "trusted": true,
        "id": "WD7nkz92j2YH"
      },
      "execution_count": null,
      "outputs": [],
      "id": "WD7nkz92j2YH"
    },
    {
      "cell_type": "code",
      "source": [
        "def fix_nums(num):\n",
        "    try : \n",
        "        return float(num.replace(\"_\",\"\"))\n",
        "    except :\n",
        "        return np.nan"
      ],
      "metadata": {
        "execution": {
          "iopub.status.busy": "2022-10-15T05:44:23.955726Z",
          "iopub.execute_input": "2022-10-15T05:44:23.956026Z",
          "iopub.status.idle": "2022-10-15T05:44:23.966071Z",
          "shell.execute_reply.started": "2022-10-15T05:44:23.955992Z",
          "shell.execute_reply": "2022-10-15T05:44:23.965208Z"
        },
        "trusted": true,
        "id": "e6uxrHXrj2YI"
      },
      "execution_count": null,
      "outputs": [],
      "id": "e6uxrHXrj2YI"
    },
    {
      "cell_type": "code",
      "source": [
        "for col in N_to_fix :\n",
        "    df[col] = df[col].apply(fix_nums)"
      ],
      "metadata": {
        "execution": {
          "iopub.status.busy": "2022-10-15T05:44:23.967532Z",
          "iopub.execute_input": "2022-10-15T05:44:23.967836Z",
          "iopub.status.idle": "2022-10-15T05:44:24.484061Z",
          "shell.execute_reply.started": "2022-10-15T05:44:23.967801Z",
          "shell.execute_reply": "2022-10-15T05:44:24.483253Z"
        },
        "trusted": true,
        "id": "4roWQBpUj2YI"
      },
      "execution_count": null,
      "outputs": [],
      "id": "4roWQBpUj2YI"
    },
    {
      "cell_type": "markdown",
      "source": [
        "### Type_of_Loan"
      ],
      "metadata": {
        "id": "4Pf7mBIlj2YJ"
      },
      "id": "4Pf7mBIlj2YJ"
    },
    {
      "cell_type": "code",
      "source": [
        "## Rebuild Type of loans Columns \n",
        "for i in df['Type_of_Loan'].value_counts().head(9).index[1:] : \n",
        "    df[i] = df['Type_of_Loan'].str.contains(i)\n",
        "\n",
        "del df['Type_of_Loan']"
      ],
      "metadata": {
        "execution": {
          "iopub.status.busy": "2022-10-15T05:44:24.489506Z",
          "iopub.execute_input": "2022-10-15T05:44:24.489763Z",
          "iopub.status.idle": "2022-10-15T05:44:24.854023Z",
          "shell.execute_reply.started": "2022-10-15T05:44:24.489735Z",
          "shell.execute_reply": "2022-10-15T05:44:24.853370Z"
        },
        "trusted": true,
        "id": "Zh2kG9BWj2YJ"
      },
      "execution_count": null,
      "outputs": [],
      "id": "Zh2kG9BWj2YJ"
    },
    {
      "cell_type": "markdown",
      "source": [
        "#### Num_Bank_Accounts"
      ],
      "metadata": {
        "id": "tsTGJkxRj2YK"
      },
      "id": "tsTGJkxRj2YK"
    },
    {
      "cell_type": "code",
      "source": [
        "df['Num_Bank_Accounts'] = df['Num_Bank_Accounts'].apply(lambda x :abs (x))"
      ],
      "metadata": {
        "execution": {
          "iopub.status.busy": "2022-10-15T05:44:24.854950Z",
          "iopub.execute_input": "2022-10-15T05:44:24.855388Z",
          "iopub.status.idle": "2022-10-15T05:44:24.902558Z",
          "shell.execute_reply.started": "2022-10-15T05:44:24.855357Z",
          "shell.execute_reply": "2022-10-15T05:44:24.901620Z"
        },
        "trusted": true,
        "id": "8qiiRBDhj2YK"
      },
      "execution_count": null,
      "outputs": [],
      "id": "8qiiRBDhj2YK"
    },
    {
      "cell_type": "markdown",
      "source": [
        "#### Num_Credit_Card"
      ],
      "metadata": {
        "id": "tYiRFt53j2YK"
      },
      "id": "tYiRFt53j2YK"
    },
    {
      "cell_type": "code",
      "source": [
        "df['Num_Credit_Card'].replace(0,1,inplace=True)"
      ],
      "metadata": {
        "execution": {
          "iopub.status.busy": "2022-10-15T05:44:24.903699Z",
          "iopub.execute_input": "2022-10-15T05:44:24.903945Z",
          "iopub.status.idle": "2022-10-15T05:44:24.908913Z",
          "shell.execute_reply.started": "2022-10-15T05:44:24.903919Z",
          "shell.execute_reply": "2022-10-15T05:44:24.908075Z"
        },
        "trusted": true,
        "id": "Sy6J4sGzj2YL"
      },
      "execution_count": null,
      "outputs": [],
      "id": "Sy6J4sGzj2YL"
    },
    {
      "cell_type": "markdown",
      "source": [
        "#### Credit_History_Age"
      ],
      "metadata": {
        "id": "gMLsk5lpj2YL"
      },
      "id": "gMLsk5lpj2YL"
    },
    {
      "cell_type": "code",
      "source": [
        "def History_age(age):\n",
        "    try : \n",
        "        years = int(\"\".join(re.findall('[0-9]',''.join(age.split(\"and\")[0]))))\n",
        "        month = int(\"\".join(re.findall('[0-9]',''.join(age.split(\"and\")[1]))))\n",
        "        return years*12 + month\n",
        "    except :\n",
        "        return np.nan"
      ],
      "metadata": {
        "execution": {
          "iopub.status.busy": "2022-10-15T05:44:24.910309Z",
          "iopub.execute_input": "2022-10-15T05:44:24.911032Z",
          "iopub.status.idle": "2022-10-15T05:44:24.918563Z",
          "shell.execute_reply.started": "2022-10-15T05:44:24.910993Z",
          "shell.execute_reply": "2022-10-15T05:44:24.918009Z"
        },
        "trusted": true,
        "id": "SDIebj1ej2YL"
      },
      "execution_count": null,
      "outputs": [],
      "id": "SDIebj1ej2YL"
    },
    {
      "cell_type": "code",
      "source": [
        "df['Credit_History_Age'] = df['Credit_History_Age'].apply(History_age)"
      ],
      "metadata": {
        "execution": {
          "iopub.status.busy": "2022-10-15T05:44:24.919469Z",
          "iopub.execute_input": "2022-10-15T05:44:24.919956Z",
          "iopub.status.idle": "2022-10-15T05:44:25.420592Z",
          "shell.execute_reply.started": "2022-10-15T05:44:24.919927Z",
          "shell.execute_reply": "2022-10-15T05:44:25.419545Z"
        },
        "trusted": true,
        "id": "hjcUAPVdj2YM"
      },
      "execution_count": null,
      "outputs": [],
      "id": "hjcUAPVdj2YM"
    },
    {
      "cell_type": "markdown",
      "source": [
        "#### Payment_of_Min_Amount"
      ],
      "metadata": {
        "id": "7kCtEb9zj2YM"
      },
      "id": "7kCtEb9zj2YM"
    },
    {
      "cell_type": "code",
      "source": [
        "df['Payment_of_Min_Amount'].replace(\"NM\",\"No\",inplace=True)"
      ],
      "metadata": {
        "execution": {
          "iopub.status.busy": "2022-10-15T05:44:25.422097Z",
          "iopub.execute_input": "2022-10-15T05:44:25.422462Z",
          "iopub.status.idle": "2022-10-15T05:44:25.432211Z",
          "shell.execute_reply.started": "2022-10-15T05:44:25.422424Z",
          "shell.execute_reply": "2022-10-15T05:44:25.431164Z"
        },
        "trusted": true,
        "id": "Vl6N1z8Ej2YM"
      },
      "execution_count": null,
      "outputs": [],
      "id": "Vl6N1z8Ej2YM"
    },
    {
      "cell_type": "code",
      "source": [
        "df['Payment_of_Min_Amount'].value_counts()"
      ],
      "metadata": {
        "execution": {
          "iopub.status.busy": "2022-10-15T05:44:25.433752Z",
          "iopub.execute_input": "2022-10-15T05:44:25.434292Z",
          "iopub.status.idle": "2022-10-15T05:44:25.453805Z",
          "shell.execute_reply.started": "2022-10-15T05:44:25.434233Z",
          "shell.execute_reply": "2022-10-15T05:44:25.453091Z"
        },
        "trusted": true,
        "id": "bUkl_f5qj2YN",
        "outputId": "42a89183-3629-494b-b0b8-9ea18f8b52c8",
        "colab": {
          "base_uri": "https://localhost:8080/"
        }
      },
      "execution_count": null,
      "outputs": [
        {
          "output_type": "execute_result",
          "data": {
            "text/plain": [
              "Yes    52326\n",
              "No     47674\n",
              "Name: Payment_of_Min_Amount, dtype: int64"
            ]
          },
          "metadata": {},
          "execution_count": 42
        }
      ],
      "id": "bUkl_f5qj2YN"
    },
    {
      "cell_type": "markdown",
      "source": [
        "#### Payment_Behaviour"
      ],
      "metadata": {
        "id": "VgT0M4bBj2YN"
      },
      "id": "VgT0M4bBj2YN"
    },
    {
      "cell_type": "code",
      "source": [
        "df['Payment_Behaviour']= df['Payment_Behaviour'].replace(\"!@9#%8\",np.nan)"
      ],
      "metadata": {
        "execution": {
          "iopub.status.busy": "2022-10-15T05:44:25.454717Z",
          "iopub.execute_input": "2022-10-15T05:44:25.454937Z",
          "iopub.status.idle": "2022-10-15T05:44:25.465205Z",
          "shell.execute_reply.started": "2022-10-15T05:44:25.454912Z",
          "shell.execute_reply": "2022-10-15T05:44:25.464351Z"
        },
        "trusted": true,
        "id": "aQVL7C4uj2YN"
      },
      "execution_count": null,
      "outputs": [],
      "id": "aQVL7C4uj2YN"
    },
    {
      "cell_type": "code",
      "source": [
        "df['Payment_Behaviour'].value_counts()"
      ],
      "metadata": {
        "execution": {
          "iopub.status.busy": "2022-10-15T05:44:25.466453Z",
          "iopub.execute_input": "2022-10-15T05:44:25.466688Z",
          "iopub.status.idle": "2022-10-15T05:44:25.480859Z",
          "shell.execute_reply.started": "2022-10-15T05:44:25.466648Z",
          "shell.execute_reply": "2022-10-15T05:44:25.480043Z"
        },
        "trusted": true,
        "id": "gMnnqc6Vj2YO",
        "outputId": "a196edd4-dcb1-4172-9e46-73b11aade9a4",
        "colab": {
          "base_uri": "https://localhost:8080/"
        }
      },
      "execution_count": null,
      "outputs": [
        {
          "output_type": "execute_result",
          "data": {
            "text/plain": [
              "Low_spent_Small_value_payments      25513\n",
              "High_spent_Medium_value_payments    17540\n",
              "Low_spent_Medium_value_payments     13861\n",
              "High_spent_Large_value_payments     13721\n",
              "High_spent_Small_value_payments     11340\n",
              "Low_spent_Large_value_payments      10425\n",
              "Name: Payment_Behaviour, dtype: int64"
            ]
          },
          "metadata": {},
          "execution_count": 44
        }
      ],
      "id": "gMnnqc6Vj2YO"
    },
    {
      "cell_type": "markdown",
      "source": [
        "### Occupation"
      ],
      "metadata": {
        "id": "tQVkJxuyj2YO"
      },
      "id": "tQVkJxuyj2YO"
    },
    {
      "cell_type": "code",
      "source": [
        "df['Occupation'].value_counts()"
      ],
      "metadata": {
        "execution": {
          "iopub.status.busy": "2022-10-15T05:44:25.482021Z",
          "iopub.execute_input": "2022-10-15T05:44:25.482236Z",
          "iopub.status.idle": "2022-10-15T05:44:25.494645Z",
          "shell.execute_reply.started": "2022-10-15T05:44:25.482212Z",
          "shell.execute_reply": "2022-10-15T05:44:25.493705Z"
        },
        "trusted": true,
        "id": "vveRADkYj2YP",
        "outputId": "50fc2031-25ad-4975-a7b5-40754c966407",
        "colab": {
          "base_uri": "https://localhost:8080/"
        }
      },
      "execution_count": null,
      "outputs": [
        {
          "output_type": "execute_result",
          "data": {
            "text/plain": [
              "_______          7062\n",
              "Lawyer           6575\n",
              "Architect        6355\n",
              "Engineer         6350\n",
              "Scientist        6299\n",
              "Mechanic         6291\n",
              "Accountant       6271\n",
              "Developer        6235\n",
              "Media_Manager    6232\n",
              "Teacher          6215\n",
              "Entrepreneur     6174\n",
              "Doctor           6087\n",
              "Journalist       6085\n",
              "Manager          5973\n",
              "Musician         5911\n",
              "Writer           5885\n",
              "Name: Occupation, dtype: int64"
            ]
          },
          "metadata": {},
          "execution_count": 45
        }
      ],
      "id": "vveRADkYj2YP"
    },
    {
      "cell_type": "code",
      "source": [
        "occs = df['Occupation'].value_counts().index[1:]\n",
        "occs"
      ],
      "metadata": {
        "execution": {
          "iopub.status.busy": "2022-10-15T05:44:25.495622Z",
          "iopub.execute_input": "2022-10-15T05:44:25.496370Z",
          "iopub.status.idle": "2022-10-15T05:44:25.509026Z",
          "shell.execute_reply.started": "2022-10-15T05:44:25.496337Z",
          "shell.execute_reply": "2022-10-15T05:44:25.508030Z"
        },
        "trusted": true,
        "id": "v8w7EsVhj2YP",
        "outputId": "19b63c2d-65c1-43bb-b57e-d282d7f09b5c",
        "colab": {
          "base_uri": "https://localhost:8080/"
        }
      },
      "execution_count": null,
      "outputs": [
        {
          "output_type": "execute_result",
          "data": {
            "text/plain": [
              "Index(['Lawyer', 'Architect', 'Engineer', 'Scientist', 'Mechanic',\n",
              "       'Accountant', 'Developer', 'Media_Manager', 'Teacher', 'Entrepreneur',\n",
              "       'Doctor', 'Journalist', 'Manager', 'Musician', 'Writer'],\n",
              "      dtype='object')"
            ]
          },
          "metadata": {},
          "execution_count": 46
        }
      ],
      "id": "v8w7EsVhj2YP"
    },
    {
      "cell_type": "code",
      "source": [
        "id_ = \"CUS_0xb891\"\n",
        "oc = df[df['Customer_ID'] == id_]['Occupation'].mode()[0]\n",
        "df[df['Customer_ID'] == id_].replace(\"_______\",oc)"
      ],
      "metadata": {
        "execution": {
          "iopub.status.busy": "2022-10-15T05:44:25.509842Z",
          "iopub.execute_input": "2022-10-15T05:44:25.510060Z",
          "iopub.status.idle": "2022-10-15T05:44:25.644059Z",
          "shell.execute_reply.started": "2022-10-15T05:44:25.510035Z",
          "shell.execute_reply": "2022-10-15T05:44:25.643166Z"
        },
        "trusted": true,
        "id": "fU0TiEC_j2YQ",
        "outputId": "b3caf686-b0ae-4d5a-ad6f-9bbcd1967448",
        "colab": {
          "base_uri": "https://localhost:8080/",
          "height": 428
        }
      },
      "execution_count": null,
      "outputs": [
        {
          "output_type": "execute_result",
          "data": {
            "text/plain": [
              "   Customer_ID     Month   Age    Occupation  Annual_Income  \\\n",
              "24  CUS_0xb891   January  54.0  Entrepreneur       30689.89   \n",
              "25  CUS_0xb891  February  54.0  Entrepreneur       30689.89   \n",
              "26  CUS_0xb891     March  55.0  Entrepreneur       30689.89   \n",
              "27  CUS_0xb891     April  55.0  Entrepreneur       30689.89   \n",
              "28  CUS_0xb891       May  55.0  Entrepreneur       30689.89   \n",
              "29  CUS_0xb891      June  55.0  Entrepreneur       30689.89   \n",
              "30  CUS_0xb891      July  55.0  Entrepreneur       30689.89   \n",
              "31  CUS_0xb891    August  55.0  Entrepreneur       30689.89   \n",
              "\n",
              "    Monthly_Inhand_Salary  Num_Bank_Accounts  Num_Credit_Card  Interest_Rate  \\\n",
              "24            2612.490833                  2                5              4   \n",
              "25            2612.490833                  2                5              4   \n",
              "26            2612.490833                  2                5              4   \n",
              "27            2612.490833                  2                5              4   \n",
              "28            2612.490833                  2                5              4   \n",
              "29            2612.490833                  2                5              4   \n",
              "30            2612.490833                  2                5              4   \n",
              "31            2612.490833                  2                5              4   \n",
              "\n",
              "    Num_of_Loan  ...  Monthly_Balance  Credit_Score  Credit-Builder Loan  \\\n",
              "24          1.0  ...       433.604773      Standard                False   \n",
              "25          1.0  ...       409.951812      Standard                False   \n",
              "26          1.0  ...       411.427123      Standard                False   \n",
              "27          1.0  ...       262.499594      Standard                False   \n",
              "28          1.0  ...       359.374916      Standard                False   \n",
              "29          1.0  ...       419.880784      Standard                False   \n",
              "30          1.0  ...       443.549957      Standard                False   \n",
              "31       -100.0  ...       379.216381      Standard                False   \n",
              "\n",
              "    Personal Loan Debt Consolidation Loan  Student Loan  Payday Loan  \\\n",
              "24          False                   False         False        False   \n",
              "25          False                   False         False        False   \n",
              "26          False                   False         False        False   \n",
              "27          False                   False         False        False   \n",
              "28          False                   False         False        False   \n",
              "29          False                   False         False        False   \n",
              "30          False                   False         False        False   \n",
              "31          False                   False         False        False   \n",
              "\n",
              "    Mortgage Loan Auto Loan  Home Equity Loan  \n",
              "24          False     False             False  \n",
              "25          False     False             False  \n",
              "26          False     False             False  \n",
              "27          False     False             False  \n",
              "28          False     False             False  \n",
              "29          False     False             False  \n",
              "30          False     False             False  \n",
              "31          False     False             False  \n",
              "\n",
              "[8 rows x 32 columns]"
            ],
            "text/html": [
              "\n",
              "  <div id=\"df-cc82026c-4e74-41cf-a308-fa24fb34d1fa\">\n",
              "    <div class=\"colab-df-container\">\n",
              "      <div>\n",
              "<style scoped>\n",
              "    .dataframe tbody tr th:only-of-type {\n",
              "        vertical-align: middle;\n",
              "    }\n",
              "\n",
              "    .dataframe tbody tr th {\n",
              "        vertical-align: top;\n",
              "    }\n",
              "\n",
              "    .dataframe thead th {\n",
              "        text-align: right;\n",
              "    }\n",
              "</style>\n",
              "<table border=\"1\" class=\"dataframe\">\n",
              "  <thead>\n",
              "    <tr style=\"text-align: right;\">\n",
              "      <th></th>\n",
              "      <th>Customer_ID</th>\n",
              "      <th>Month</th>\n",
              "      <th>Age</th>\n",
              "      <th>Occupation</th>\n",
              "      <th>Annual_Income</th>\n",
              "      <th>Monthly_Inhand_Salary</th>\n",
              "      <th>Num_Bank_Accounts</th>\n",
              "      <th>Num_Credit_Card</th>\n",
              "      <th>Interest_Rate</th>\n",
              "      <th>Num_of_Loan</th>\n",
              "      <th>...</th>\n",
              "      <th>Monthly_Balance</th>\n",
              "      <th>Credit_Score</th>\n",
              "      <th>Credit-Builder Loan</th>\n",
              "      <th>Personal Loan</th>\n",
              "      <th>Debt Consolidation Loan</th>\n",
              "      <th>Student Loan</th>\n",
              "      <th>Payday Loan</th>\n",
              "      <th>Mortgage Loan</th>\n",
              "      <th>Auto Loan</th>\n",
              "      <th>Home Equity Loan</th>\n",
              "    </tr>\n",
              "  </thead>\n",
              "  <tbody>\n",
              "    <tr>\n",
              "      <th>24</th>\n",
              "      <td>CUS_0xb891</td>\n",
              "      <td>January</td>\n",
              "      <td>54.0</td>\n",
              "      <td>Entrepreneur</td>\n",
              "      <td>30689.89</td>\n",
              "      <td>2612.490833</td>\n",
              "      <td>2</td>\n",
              "      <td>5</td>\n",
              "      <td>4</td>\n",
              "      <td>1.0</td>\n",
              "      <td>...</td>\n",
              "      <td>433.604773</td>\n",
              "      <td>Standard</td>\n",
              "      <td>False</td>\n",
              "      <td>False</td>\n",
              "      <td>False</td>\n",
              "      <td>False</td>\n",
              "      <td>False</td>\n",
              "      <td>False</td>\n",
              "      <td>False</td>\n",
              "      <td>False</td>\n",
              "    </tr>\n",
              "    <tr>\n",
              "      <th>25</th>\n",
              "      <td>CUS_0xb891</td>\n",
              "      <td>February</td>\n",
              "      <td>54.0</td>\n",
              "      <td>Entrepreneur</td>\n",
              "      <td>30689.89</td>\n",
              "      <td>2612.490833</td>\n",
              "      <td>2</td>\n",
              "      <td>5</td>\n",
              "      <td>4</td>\n",
              "      <td>1.0</td>\n",
              "      <td>...</td>\n",
              "      <td>409.951812</td>\n",
              "      <td>Standard</td>\n",
              "      <td>False</td>\n",
              "      <td>False</td>\n",
              "      <td>False</td>\n",
              "      <td>False</td>\n",
              "      <td>False</td>\n",
              "      <td>False</td>\n",
              "      <td>False</td>\n",
              "      <td>False</td>\n",
              "    </tr>\n",
              "    <tr>\n",
              "      <th>26</th>\n",
              "      <td>CUS_0xb891</td>\n",
              "      <td>March</td>\n",
              "      <td>55.0</td>\n",
              "      <td>Entrepreneur</td>\n",
              "      <td>30689.89</td>\n",
              "      <td>2612.490833</td>\n",
              "      <td>2</td>\n",
              "      <td>5</td>\n",
              "      <td>4</td>\n",
              "      <td>1.0</td>\n",
              "      <td>...</td>\n",
              "      <td>411.427123</td>\n",
              "      <td>Standard</td>\n",
              "      <td>False</td>\n",
              "      <td>False</td>\n",
              "      <td>False</td>\n",
              "      <td>False</td>\n",
              "      <td>False</td>\n",
              "      <td>False</td>\n",
              "      <td>False</td>\n",
              "      <td>False</td>\n",
              "    </tr>\n",
              "    <tr>\n",
              "      <th>27</th>\n",
              "      <td>CUS_0xb891</td>\n",
              "      <td>April</td>\n",
              "      <td>55.0</td>\n",
              "      <td>Entrepreneur</td>\n",
              "      <td>30689.89</td>\n",
              "      <td>2612.490833</td>\n",
              "      <td>2</td>\n",
              "      <td>5</td>\n",
              "      <td>4</td>\n",
              "      <td>1.0</td>\n",
              "      <td>...</td>\n",
              "      <td>262.499594</td>\n",
              "      <td>Standard</td>\n",
              "      <td>False</td>\n",
              "      <td>False</td>\n",
              "      <td>False</td>\n",
              "      <td>False</td>\n",
              "      <td>False</td>\n",
              "      <td>False</td>\n",
              "      <td>False</td>\n",
              "      <td>False</td>\n",
              "    </tr>\n",
              "    <tr>\n",
              "      <th>28</th>\n",
              "      <td>CUS_0xb891</td>\n",
              "      <td>May</td>\n",
              "      <td>55.0</td>\n",
              "      <td>Entrepreneur</td>\n",
              "      <td>30689.89</td>\n",
              "      <td>2612.490833</td>\n",
              "      <td>2</td>\n",
              "      <td>5</td>\n",
              "      <td>4</td>\n",
              "      <td>1.0</td>\n",
              "      <td>...</td>\n",
              "      <td>359.374916</td>\n",
              "      <td>Standard</td>\n",
              "      <td>False</td>\n",
              "      <td>False</td>\n",
              "      <td>False</td>\n",
              "      <td>False</td>\n",
              "      <td>False</td>\n",
              "      <td>False</td>\n",
              "      <td>False</td>\n",
              "      <td>False</td>\n",
              "    </tr>\n",
              "    <tr>\n",
              "      <th>29</th>\n",
              "      <td>CUS_0xb891</td>\n",
              "      <td>June</td>\n",
              "      <td>55.0</td>\n",
              "      <td>Entrepreneur</td>\n",
              "      <td>30689.89</td>\n",
              "      <td>2612.490833</td>\n",
              "      <td>2</td>\n",
              "      <td>5</td>\n",
              "      <td>4</td>\n",
              "      <td>1.0</td>\n",
              "      <td>...</td>\n",
              "      <td>419.880784</td>\n",
              "      <td>Standard</td>\n",
              "      <td>False</td>\n",
              "      <td>False</td>\n",
              "      <td>False</td>\n",
              "      <td>False</td>\n",
              "      <td>False</td>\n",
              "      <td>False</td>\n",
              "      <td>False</td>\n",
              "      <td>False</td>\n",
              "    </tr>\n",
              "    <tr>\n",
              "      <th>30</th>\n",
              "      <td>CUS_0xb891</td>\n",
              "      <td>July</td>\n",
              "      <td>55.0</td>\n",
              "      <td>Entrepreneur</td>\n",
              "      <td>30689.89</td>\n",
              "      <td>2612.490833</td>\n",
              "      <td>2</td>\n",
              "      <td>5</td>\n",
              "      <td>4</td>\n",
              "      <td>1.0</td>\n",
              "      <td>...</td>\n",
              "      <td>443.549957</td>\n",
              "      <td>Standard</td>\n",
              "      <td>False</td>\n",
              "      <td>False</td>\n",
              "      <td>False</td>\n",
              "      <td>False</td>\n",
              "      <td>False</td>\n",
              "      <td>False</td>\n",
              "      <td>False</td>\n",
              "      <td>False</td>\n",
              "    </tr>\n",
              "    <tr>\n",
              "      <th>31</th>\n",
              "      <td>CUS_0xb891</td>\n",
              "      <td>August</td>\n",
              "      <td>55.0</td>\n",
              "      <td>Entrepreneur</td>\n",
              "      <td>30689.89</td>\n",
              "      <td>2612.490833</td>\n",
              "      <td>2</td>\n",
              "      <td>5</td>\n",
              "      <td>4</td>\n",
              "      <td>-100.0</td>\n",
              "      <td>...</td>\n",
              "      <td>379.216381</td>\n",
              "      <td>Standard</td>\n",
              "      <td>False</td>\n",
              "      <td>False</td>\n",
              "      <td>False</td>\n",
              "      <td>False</td>\n",
              "      <td>False</td>\n",
              "      <td>False</td>\n",
              "      <td>False</td>\n",
              "      <td>False</td>\n",
              "    </tr>\n",
              "  </tbody>\n",
              "</table>\n",
              "<p>8 rows × 32 columns</p>\n",
              "</div>\n",
              "      <button class=\"colab-df-convert\" onclick=\"convertToInteractive('df-cc82026c-4e74-41cf-a308-fa24fb34d1fa')\"\n",
              "              title=\"Convert this dataframe to an interactive table.\"\n",
              "              style=\"display:none;\">\n",
              "        \n",
              "  <svg xmlns=\"http://www.w3.org/2000/svg\" height=\"24px\"viewBox=\"0 0 24 24\"\n",
              "       width=\"24px\">\n",
              "    <path d=\"M0 0h24v24H0V0z\" fill=\"none\"/>\n",
              "    <path d=\"M18.56 5.44l.94 2.06.94-2.06 2.06-.94-2.06-.94-.94-2.06-.94 2.06-2.06.94zm-11 1L8.5 8.5l.94-2.06 2.06-.94-2.06-.94L8.5 2.5l-.94 2.06-2.06.94zm10 10l.94 2.06.94-2.06 2.06-.94-2.06-.94-.94-2.06-.94 2.06-2.06.94z\"/><path d=\"M17.41 7.96l-1.37-1.37c-.4-.4-.92-.59-1.43-.59-.52 0-1.04.2-1.43.59L10.3 9.45l-7.72 7.72c-.78.78-.78 2.05 0 2.83L4 21.41c.39.39.9.59 1.41.59.51 0 1.02-.2 1.41-.59l7.78-7.78 2.81-2.81c.8-.78.8-2.07 0-2.86zM5.41 20L4 18.59l7.72-7.72 1.47 1.35L5.41 20z\"/>\n",
              "  </svg>\n",
              "      </button>\n",
              "      \n",
              "  <style>\n",
              "    .colab-df-container {\n",
              "      display:flex;\n",
              "      flex-wrap:wrap;\n",
              "      gap: 12px;\n",
              "    }\n",
              "\n",
              "    .colab-df-convert {\n",
              "      background-color: #E8F0FE;\n",
              "      border: none;\n",
              "      border-radius: 50%;\n",
              "      cursor: pointer;\n",
              "      display: none;\n",
              "      fill: #1967D2;\n",
              "      height: 32px;\n",
              "      padding: 0 0 0 0;\n",
              "      width: 32px;\n",
              "    }\n",
              "\n",
              "    .colab-df-convert:hover {\n",
              "      background-color: #E2EBFA;\n",
              "      box-shadow: 0px 1px 2px rgba(60, 64, 67, 0.3), 0px 1px 3px 1px rgba(60, 64, 67, 0.15);\n",
              "      fill: #174EA6;\n",
              "    }\n",
              "\n",
              "    [theme=dark] .colab-df-convert {\n",
              "      background-color: #3B4455;\n",
              "      fill: #D2E3FC;\n",
              "    }\n",
              "\n",
              "    [theme=dark] .colab-df-convert:hover {\n",
              "      background-color: #434B5C;\n",
              "      box-shadow: 0px 1px 3px 1px rgba(0, 0, 0, 0.15);\n",
              "      filter: drop-shadow(0px 1px 2px rgba(0, 0, 0, 0.3));\n",
              "      fill: #FFFFFF;\n",
              "    }\n",
              "  </style>\n",
              "\n",
              "      <script>\n",
              "        const buttonEl =\n",
              "          document.querySelector('#df-cc82026c-4e74-41cf-a308-fa24fb34d1fa button.colab-df-convert');\n",
              "        buttonEl.style.display =\n",
              "          google.colab.kernel.accessAllowed ? 'block' : 'none';\n",
              "\n",
              "        async function convertToInteractive(key) {\n",
              "          const element = document.querySelector('#df-cc82026c-4e74-41cf-a308-fa24fb34d1fa');\n",
              "          const dataTable =\n",
              "            await google.colab.kernel.invokeFunction('convertToInteractive',\n",
              "                                                     [key], {});\n",
              "          if (!dataTable) return;\n",
              "\n",
              "          const docLinkHtml = 'Like what you see? Visit the ' +\n",
              "            '<a target=\"_blank\" href=https://colab.research.google.com/notebooks/data_table.ipynb>data table notebook</a>'\n",
              "            + ' to learn more about interactive tables.';\n",
              "          element.innerHTML = '';\n",
              "          dataTable['output_type'] = 'display_data';\n",
              "          await google.colab.output.renderOutput(dataTable, element);\n",
              "          const docLink = document.createElement('div');\n",
              "          docLink.innerHTML = docLinkHtml;\n",
              "          element.appendChild(docLink);\n",
              "        }\n",
              "      </script>\n",
              "    </div>\n",
              "  </div>\n",
              "  "
            ]
          },
          "metadata": {},
          "execution_count": 47
        }
      ],
      "id": "fU0TiEC_j2YQ"
    },
    {
      "cell_type": "code",
      "source": [
        "for ID in df[df['Occupation'] == \"_______\"]['Customer_ID'] : \n",
        "    oc = df[df['Customer_ID'] == ID]['Occupation'].mode()[0]\n",
        "    df[df['Customer_ID'] == ID] = df[df['Customer_ID'] == ID].replace(\"_______\",oc)"
      ],
      "metadata": {
        "execution": {
          "iopub.status.busy": "2022-10-15T05:44:25.645349Z",
          "iopub.execute_input": "2022-10-15T05:44:25.645658Z",
          "iopub.status.idle": "2022-10-15T05:52:07.326606Z",
          "shell.execute_reply.started": "2022-10-15T05:44:25.645627Z",
          "shell.execute_reply": "2022-10-15T05:52:07.325903Z"
        },
        "trusted": true,
        "id": "Ddf9pVslj2YQ"
      },
      "execution_count": null,
      "outputs": [],
      "id": "Ddf9pVslj2YQ"
    },
    {
      "cell_type": "code",
      "source": [
        "df['Occupation'].value_counts()"
      ],
      "metadata": {
        "execution": {
          "iopub.status.busy": "2022-10-15T05:52:07.327725Z",
          "iopub.execute_input": "2022-10-15T05:52:07.328077Z",
          "iopub.status.idle": "2022-10-15T05:52:07.340144Z",
          "shell.execute_reply.started": "2022-10-15T05:52:07.328051Z",
          "shell.execute_reply": "2022-10-15T05:52:07.339250Z"
        },
        "trusted": true,
        "id": "orSbVP9Wj2YQ",
        "outputId": "781c9187-cb01-41a5-907e-d13e38e00c37"
      },
      "execution_count": null,
      "outputs": [
        {
          "execution_count": 46,
          "output_type": "execute_result",
          "data": {
            "text/plain": "Lawyer           7096\nEngineer         6864\nArchitect        6824\nMechanic         6776\nScientist        6744\nAccountant       6744\nDeveloper        6720\nMedia_Manager    6715\nTeacher          6672\nEntrepreneur     6648\nDoctor           6568\nJournalist       6536\nManager          6432\nMusician         6352\nWriter           6304\n_______             5\nName: Occupation, dtype: int64"
          },
          "metadata": {}
        }
      ],
      "id": "orSbVP9Wj2YQ"
    },
    {
      "cell_type": "code",
      "source": [
        "df['Occupation'] = df['Occupation'].replace(\"_______\",df['Occupation'].mode()[0])"
      ],
      "metadata": {
        "execution": {
          "iopub.status.busy": "2022-10-15T05:52:07.341366Z",
          "iopub.execute_input": "2022-10-15T05:52:07.341606Z",
          "iopub.status.idle": "2022-10-15T05:52:07.360715Z",
          "shell.execute_reply.started": "2022-10-15T05:52:07.341580Z",
          "shell.execute_reply": "2022-10-15T05:52:07.359539Z"
        },
        "trusted": true,
        "id": "Su8O6nPrj2YR"
      },
      "execution_count": null,
      "outputs": [],
      "id": "Su8O6nPrj2YR"
    },
    {
      "cell_type": "code",
      "source": [
        "df['Occupation'].value_counts()"
      ],
      "metadata": {
        "execution": {
          "iopub.status.busy": "2022-10-15T05:52:07.362008Z",
          "iopub.execute_input": "2022-10-15T05:52:07.362363Z",
          "iopub.status.idle": "2022-10-15T05:52:07.377374Z",
          "shell.execute_reply.started": "2022-10-15T05:52:07.362331Z",
          "shell.execute_reply": "2022-10-15T05:52:07.376574Z"
        },
        "trusted": true,
        "id": "_S2qd-sHj2YR",
        "outputId": "f009f4e5-01bd-4f5f-d28e-3d2216bc7106",
        "colab": {
          "base_uri": "https://localhost:8080/"
        }
      },
      "execution_count": null,
      "outputs": [
        {
          "output_type": "execute_result",
          "data": {
            "text/plain": [
              "Lawyer           7101\n",
              "Engineer         6864\n",
              "Architect        6824\n",
              "Mechanic         6776\n",
              "Scientist        6744\n",
              "Accountant       6744\n",
              "Developer        6720\n",
              "Media_Manager    6715\n",
              "Teacher          6672\n",
              "Entrepreneur     6648\n",
              "Doctor           6568\n",
              "Journalist       6536\n",
              "Manager          6432\n",
              "Musician         6352\n",
              "Writer           6304\n",
              "Name: Occupation, dtype: int64"
            ]
          },
          "metadata": {},
          "execution_count": 50
        }
      ],
      "id": "_S2qd-sHj2YR"
    },
    {
      "cell_type": "markdown",
      "source": [
        "#### Credit_Mix"
      ],
      "metadata": {
        "id": "OcmcgLksj2YS"
      },
      "id": "OcmcgLksj2YS"
    },
    {
      "cell_type": "code",
      "source": [
        "df['Credit_Mix'].value_counts()"
      ],
      "metadata": {
        "execution": {
          "iopub.status.busy": "2022-10-15T05:52:07.378518Z",
          "iopub.execute_input": "2022-10-15T05:52:07.378783Z",
          "iopub.status.idle": "2022-10-15T05:52:07.394011Z",
          "shell.execute_reply.started": "2022-10-15T05:52:07.378732Z",
          "shell.execute_reply": "2022-10-15T05:52:07.393209Z"
        },
        "trusted": true,
        "id": "A4yp4yQxj2YS",
        "outputId": "a8bd8de6-14ce-4eb6-99d1-3df9e132d947",
        "colab": {
          "base_uri": "https://localhost:8080/"
        }
      },
      "execution_count": null,
      "outputs": [
        {
          "output_type": "execute_result",
          "data": {
            "text/plain": [
              "Standard    36479\n",
              "Good        24337\n",
              "_           20195\n",
              "Bad         18989\n",
              "Name: Credit_Mix, dtype: int64"
            ]
          },
          "metadata": {},
          "execution_count": 51
        }
      ],
      "id": "A4yp4yQxj2YS"
    },
    {
      "cell_type": "code",
      "source": [
        "m = {\n",
        "    \"Bad\":0,\n",
        "    \"Standard\":1,\n",
        "    \"Good\":2,\n",
        "    \"_\":np.nan\n",
        "}"
      ],
      "metadata": {
        "execution": {
          "iopub.status.busy": "2022-10-15T05:52:07.395187Z",
          "iopub.execute_input": "2022-10-15T05:52:07.395451Z",
          "iopub.status.idle": "2022-10-15T05:52:07.399681Z",
          "shell.execute_reply.started": "2022-10-15T05:52:07.395424Z",
          "shell.execute_reply": "2022-10-15T05:52:07.398881Z"
        },
        "trusted": true,
        "id": "1ItpbzUpj2YT"
      },
      "execution_count": null,
      "outputs": [],
      "id": "1ItpbzUpj2YT"
    },
    {
      "cell_type": "code",
      "source": [
        "df['Credit_Mix'] = df['Credit_Mix'].map(m)"
      ],
      "metadata": {
        "execution": {
          "iopub.status.busy": "2022-10-15T05:52:07.400964Z",
          "iopub.execute_input": "2022-10-15T05:52:07.401192Z",
          "iopub.status.idle": "2022-10-15T05:52:07.449048Z",
          "shell.execute_reply.started": "2022-10-15T05:52:07.401166Z",
          "shell.execute_reply": "2022-10-15T05:52:07.448135Z"
        },
        "trusted": true,
        "id": "PIXwhqtEj2YT"
      },
      "execution_count": null,
      "outputs": [],
      "id": "PIXwhqtEj2YT"
    },
    {
      "cell_type": "markdown",
      "source": [
        "### Advanced Handling Missing Data "
      ],
      "metadata": {
        "id": "ZCGI8LJZj2YT"
      },
      "id": "ZCGI8LJZj2YT"
    },
    {
      "cell_type": "code",
      "source": [
        "# Edit Columns from bool to int \n",
        "for col in list(df.columns[-8:]):\n",
        "    df[col] = df[col].astype(float)"
      ],
      "metadata": {
        "execution": {
          "iopub.status.busy": "2022-10-15T05:52:07.450439Z",
          "iopub.execute_input": "2022-10-15T05:52:07.450685Z",
          "iopub.status.idle": "2022-10-15T05:52:07.544542Z",
          "shell.execute_reply.started": "2022-10-15T05:52:07.450657Z",
          "shell.execute_reply": "2022-10-15T05:52:07.543380Z"
        },
        "trusted": true,
        "id": "L9277tJDj2YT"
      },
      "execution_count": null,
      "outputs": [],
      "id": "L9277tJDj2YT"
    },
    {
      "cell_type": "code",
      "source": [
        "IDs = 1 \n",
        "for ID in df['Customer_ID'].unique() :\n",
        "    df['Customer_ID'] = df['Customer_ID'].replace(ID,IDs)\n",
        "    IDs += 1 "
      ],
      "metadata": {
        "execution": {
          "iopub.status.busy": "2022-10-15T05:52:07.545736Z",
          "iopub.execute_input": "2022-10-15T05:52:07.545984Z",
          "iopub.status.idle": "2022-10-15T05:55:05.522217Z",
          "shell.execute_reply.started": "2022-10-15T05:52:07.545956Z",
          "shell.execute_reply": "2022-10-15T05:55:05.521048Z"
        },
        "trusted": true,
        "id": "_0BAWEFBj2YU"
      },
      "execution_count": null,
      "outputs": [],
      "id": "_0BAWEFBj2YU"
    },
    {
      "cell_type": "code",
      "source": [
        "from sklearn.impute import KNNImputer\n",
        "imputer = KNNImputer(n_neighbors=1)"
      ],
      "metadata": {
        "execution": {
          "iopub.status.busy": "2022-10-15T05:55:05.523460Z",
          "iopub.execute_input": "2022-10-15T05:55:05.523696Z",
          "iopub.status.idle": "2022-10-15T05:55:05.528658Z",
          "shell.execute_reply.started": "2022-10-15T05:55:05.523668Z",
          "shell.execute_reply": "2022-10-15T05:55:05.527393Z"
        },
        "trusted": true,
        "id": "dXOdHjwMj2YU"
      },
      "execution_count": null,
      "outputs": [],
      "id": "dXOdHjwMj2YU"
    },
    {
      "cell_type": "code",
      "source": [
        "Numericals = df.select_dtypes(exclude='object').columns[1:]\n",
        "Numericals"
      ],
      "metadata": {
        "execution": {
          "iopub.status.busy": "2022-10-15T05:55:05.529612Z",
          "iopub.execute_input": "2022-10-15T05:55:05.530238Z",
          "iopub.status.idle": "2022-10-15T05:55:05.570735Z",
          "shell.execute_reply.started": "2022-10-15T05:55:05.530207Z",
          "shell.execute_reply": "2022-10-15T05:55:05.569834Z"
        },
        "trusted": true,
        "id": "oPVcKEOwj2YU",
        "outputId": "f85bafcb-ea2f-4934-bfa5-e2f68179fa87",
        "colab": {
          "base_uri": "https://localhost:8080/"
        }
      },
      "execution_count": null,
      "outputs": [
        {
          "output_type": "execute_result",
          "data": {
            "text/plain": [
              "Index(['Age', 'Annual_Income', 'Monthly_Inhand_Salary', 'Num_Bank_Accounts',\n",
              "       'Num_Credit_Card', 'Interest_Rate', 'Num_of_Loan',\n",
              "       'Delay_from_due_date', 'Num_of_Delayed_Payment', 'Changed_Credit_Limit',\n",
              "       'Num_Credit_Inquiries', 'Credit_Mix', 'Outstanding_Debt',\n",
              "       'Credit_Utilization_Ratio', 'Credit_History_Age', 'Total_EMI_per_month',\n",
              "       'Amount_invested_monthly', 'Monthly_Balance', 'Credit-Builder Loan',\n",
              "       'Personal Loan', 'Debt Consolidation Loan', 'Student Loan',\n",
              "       'Payday Loan', 'Mortgage Loan', 'Auto Loan', 'Home Equity Loan'],\n",
              "      dtype='object')"
            ]
          },
          "metadata": {},
          "execution_count": 57
        }
      ],
      "id": "oPVcKEOwj2YU"
    },
    {
      "cell_type": "code",
      "source": [
        "for col in Numericals[1:]:\n",
        "    imputer.fit(df[['Customer_ID',col]])\n",
        "    df[['Customer_ID',col]] = imputer.transform(df[['Customer_ID',col]])"
      ],
      "metadata": {
        "execution": {
          "iopub.status.busy": "2022-10-15T05:55:05.571984Z",
          "iopub.execute_input": "2022-10-15T05:55:05.572257Z",
          "iopub.status.idle": "2022-10-15T06:06:32.853513Z",
          "shell.execute_reply.started": "2022-10-15T05:55:05.572226Z",
          "shell.execute_reply": "2022-10-15T06:06:32.851766Z"
        },
        "trusted": true,
        "id": "FgMUS9LTj2YU"
      },
      "execution_count": null,
      "outputs": [],
      "id": "FgMUS9LTj2YU"
    },
    {
      "cell_type": "code",
      "source": [
        "df.info()"
      ],
      "metadata": {
        "execution": {
          "iopub.status.busy": "2022-10-15T06:06:32.856335Z",
          "iopub.execute_input": "2022-10-15T06:06:32.856661Z",
          "iopub.status.idle": "2022-10-15T06:06:32.907957Z",
          "shell.execute_reply.started": "2022-10-15T06:06:32.856621Z",
          "shell.execute_reply": "2022-10-15T06:06:32.907039Z"
        },
        "trusted": true,
        "id": "hRCPsgLHj2YV",
        "outputId": "dd0c72b6-3d63-4bd4-f427-f816f7f013b8",
        "colab": {
          "base_uri": "https://localhost:8080/"
        }
      },
      "execution_count": null,
      "outputs": [
        {
          "output_type": "stream",
          "name": "stdout",
          "text": [
            "<class 'pandas.core.frame.DataFrame'>\n",
            "RangeIndex: 100000 entries, 0 to 99999\n",
            "Data columns (total 32 columns):\n",
            " #   Column                    Non-Null Count   Dtype  \n",
            "---  ------                    --------------   -----  \n",
            " 0   Customer_ID               100000 non-null  float64\n",
            " 1   Month                     100000 non-null  object \n",
            " 2   Age                       100000 non-null  float64\n",
            " 3   Occupation                100000 non-null  object \n",
            " 4   Annual_Income             100000 non-null  float64\n",
            " 5   Monthly_Inhand_Salary     100000 non-null  float64\n",
            " 6   Num_Bank_Accounts         100000 non-null  float64\n",
            " 7   Num_Credit_Card           100000 non-null  float64\n",
            " 8   Interest_Rate             100000 non-null  float64\n",
            " 9   Num_of_Loan               100000 non-null  float64\n",
            " 10  Delay_from_due_date       100000 non-null  float64\n",
            " 11  Num_of_Delayed_Payment    100000 non-null  float64\n",
            " 12  Changed_Credit_Limit      100000 non-null  float64\n",
            " 13  Num_Credit_Inquiries      100000 non-null  float64\n",
            " 14  Credit_Mix                100000 non-null  float64\n",
            " 15  Outstanding_Debt          100000 non-null  float64\n",
            " 16  Credit_Utilization_Ratio  100000 non-null  float64\n",
            " 17  Credit_History_Age        100000 non-null  float64\n",
            " 18  Payment_of_Min_Amount     100000 non-null  object \n",
            " 19  Total_EMI_per_month       100000 non-null  float64\n",
            " 20  Amount_invested_monthly   100000 non-null  float64\n",
            " 21  Payment_Behaviour         92400 non-null   object \n",
            " 22  Monthly_Balance           100000 non-null  float64\n",
            " 23  Credit_Score              100000 non-null  object \n",
            " 24  Credit-Builder Loan       100000 non-null  float64\n",
            " 25  Personal Loan             100000 non-null  float64\n",
            " 26  Debt Consolidation Loan   100000 non-null  float64\n",
            " 27  Student Loan              100000 non-null  float64\n",
            " 28  Payday Loan               100000 non-null  float64\n",
            " 29  Mortgage Loan             100000 non-null  float64\n",
            " 30  Auto Loan                 100000 non-null  float64\n",
            " 31  Home Equity Loan          100000 non-null  float64\n",
            "dtypes: float64(27), object(5)\n",
            "memory usage: 24.4+ MB\n"
          ]
        }
      ],
      "id": "hRCPsgLHj2YV"
    },
    {
      "cell_type": "code",
      "source": [
        "imputer = SimpleImputer(strategy=\"most_frequent\")\n",
        "imputer.fit(df[['Payment_Behaviour']])\n",
        "df[['Payment_Behaviour']] = imputer.transform(df[['Payment_Behaviour']])"
      ],
      "metadata": {
        "execution": {
          "iopub.status.busy": "2022-10-15T06:06:32.909849Z",
          "iopub.execute_input": "2022-10-15T06:06:32.910196Z",
          "iopub.status.idle": "2022-10-15T06:06:42.385888Z",
          "shell.execute_reply.started": "2022-10-15T06:06:32.910156Z",
          "shell.execute_reply": "2022-10-15T06:06:42.385065Z"
        },
        "trusted": true,
        "id": "yqvewUGoj2YV"
      },
      "execution_count": null,
      "outputs": [],
      "id": "yqvewUGoj2YV"
    },
    {
      "cell_type": "markdown",
      "source": [
        "### Handling Outliers "
      ],
      "metadata": {
        "id": "Nxbtxr9tj2YV"
      },
      "id": "Nxbtxr9tj2YV"
    },
    {
      "cell_type": "code",
      "source": [
        "## replace Outliers with median \n",
        "for col in Numericals :\n",
        "    outliers_indecies = detect_outliers(df,0,[col])\n",
        "    median = df[col].median()\n",
        "    df[col].iloc[outliers_indecies] = median"
      ],
      "metadata": {
        "execution": {
          "iopub.status.busy": "2022-10-15T06:06:42.387055Z",
          "iopub.execute_input": "2022-10-15T06:06:42.387297Z",
          "iopub.status.idle": "2022-10-15T06:06:42.553141Z",
          "shell.execute_reply.started": "2022-10-15T06:06:42.387256Z",
          "shell.execute_reply": "2022-10-15T06:06:42.552251Z"
        },
        "trusted": true,
        "id": "n3hko33hj2YV"
      },
      "execution_count": null,
      "outputs": [],
      "id": "n3hko33hj2YV"
    },
    {
      "cell_type": "markdown",
      "source": [
        "# Data Preprocessing"
      ],
      "metadata": {
        "id": "7BzunLbIj2YV"
      },
      "id": "7BzunLbIj2YV"
    },
    {
      "cell_type": "markdown",
      "source": [
        "### Handling Catogerical "
      ],
      "metadata": {
        "id": "c0vP5s3Dj2YW"
      },
      "id": "c0vP5s3Dj2YW"
    },
    {
      "cell_type": "code",
      "source": [
        "df.select_dtypes(include=\"object\")"
      ],
      "metadata": {
        "execution": {
          "iopub.status.busy": "2022-10-15T06:06:42.554448Z",
          "iopub.execute_input": "2022-10-15T06:06:42.554747Z",
          "iopub.status.idle": "2022-10-15T06:06:42.575294Z",
          "shell.execute_reply.started": "2022-10-15T06:06:42.554711Z",
          "shell.execute_reply": "2022-10-15T06:06:42.574378Z"
        },
        "trusted": true,
        "id": "JWqpJut2j2YW",
        "outputId": "aa293c4b-9a57-43e3-e555-d46b9d8a2d69",
        "colab": {
          "base_uri": "https://localhost:8080/",
          "height": 424
        }
      },
      "execution_count": null,
      "outputs": [
        {
          "output_type": "execute_result",
          "data": {
            "text/plain": [
              "          Month Occupation Payment_of_Min_Amount  \\\n",
              "0       January  Scientist                    No   \n",
              "1      February  Scientist                    No   \n",
              "2         March  Scientist                    No   \n",
              "3         April  Scientist                    No   \n",
              "4           May  Scientist                    No   \n",
              "...         ...        ...                   ...   \n",
              "99995     April   Mechanic                    No   \n",
              "99996       May   Mechanic                    No   \n",
              "99997      June   Mechanic                    No   \n",
              "99998      July   Mechanic                    No   \n",
              "99999    August   Mechanic                    No   \n",
              "\n",
              "                      Payment_Behaviour Credit_Score  \n",
              "0       High_spent_Small_value_payments         Good  \n",
              "1        Low_spent_Large_value_payments         Good  \n",
              "2       Low_spent_Medium_value_payments         Good  \n",
              "3        Low_spent_Small_value_payments         Good  \n",
              "4      High_spent_Medium_value_payments         Good  \n",
              "...                                 ...          ...  \n",
              "99995   High_spent_Large_value_payments         Poor  \n",
              "99996  High_spent_Medium_value_payments         Poor  \n",
              "99997   High_spent_Large_value_payments         Poor  \n",
              "99998    Low_spent_Large_value_payments     Standard  \n",
              "99999    Low_spent_Small_value_payments         Poor  \n",
              "\n",
              "[100000 rows x 5 columns]"
            ],
            "text/html": [
              "\n",
              "  <div id=\"df-a5a9482e-39e5-4848-8582-2752c860ea3a\">\n",
              "    <div class=\"colab-df-container\">\n",
              "      <div>\n",
              "<style scoped>\n",
              "    .dataframe tbody tr th:only-of-type {\n",
              "        vertical-align: middle;\n",
              "    }\n",
              "\n",
              "    .dataframe tbody tr th {\n",
              "        vertical-align: top;\n",
              "    }\n",
              "\n",
              "    .dataframe thead th {\n",
              "        text-align: right;\n",
              "    }\n",
              "</style>\n",
              "<table border=\"1\" class=\"dataframe\">\n",
              "  <thead>\n",
              "    <tr style=\"text-align: right;\">\n",
              "      <th></th>\n",
              "      <th>Month</th>\n",
              "      <th>Occupation</th>\n",
              "      <th>Payment_of_Min_Amount</th>\n",
              "      <th>Payment_Behaviour</th>\n",
              "      <th>Credit_Score</th>\n",
              "    </tr>\n",
              "  </thead>\n",
              "  <tbody>\n",
              "    <tr>\n",
              "      <th>0</th>\n",
              "      <td>January</td>\n",
              "      <td>Scientist</td>\n",
              "      <td>No</td>\n",
              "      <td>High_spent_Small_value_payments</td>\n",
              "      <td>Good</td>\n",
              "    </tr>\n",
              "    <tr>\n",
              "      <th>1</th>\n",
              "      <td>February</td>\n",
              "      <td>Scientist</td>\n",
              "      <td>No</td>\n",
              "      <td>Low_spent_Large_value_payments</td>\n",
              "      <td>Good</td>\n",
              "    </tr>\n",
              "    <tr>\n",
              "      <th>2</th>\n",
              "      <td>March</td>\n",
              "      <td>Scientist</td>\n",
              "      <td>No</td>\n",
              "      <td>Low_spent_Medium_value_payments</td>\n",
              "      <td>Good</td>\n",
              "    </tr>\n",
              "    <tr>\n",
              "      <th>3</th>\n",
              "      <td>April</td>\n",
              "      <td>Scientist</td>\n",
              "      <td>No</td>\n",
              "      <td>Low_spent_Small_value_payments</td>\n",
              "      <td>Good</td>\n",
              "    </tr>\n",
              "    <tr>\n",
              "      <th>4</th>\n",
              "      <td>May</td>\n",
              "      <td>Scientist</td>\n",
              "      <td>No</td>\n",
              "      <td>High_spent_Medium_value_payments</td>\n",
              "      <td>Good</td>\n",
              "    </tr>\n",
              "    <tr>\n",
              "      <th>...</th>\n",
              "      <td>...</td>\n",
              "      <td>...</td>\n",
              "      <td>...</td>\n",
              "      <td>...</td>\n",
              "      <td>...</td>\n",
              "    </tr>\n",
              "    <tr>\n",
              "      <th>99995</th>\n",
              "      <td>April</td>\n",
              "      <td>Mechanic</td>\n",
              "      <td>No</td>\n",
              "      <td>High_spent_Large_value_payments</td>\n",
              "      <td>Poor</td>\n",
              "    </tr>\n",
              "    <tr>\n",
              "      <th>99996</th>\n",
              "      <td>May</td>\n",
              "      <td>Mechanic</td>\n",
              "      <td>No</td>\n",
              "      <td>High_spent_Medium_value_payments</td>\n",
              "      <td>Poor</td>\n",
              "    </tr>\n",
              "    <tr>\n",
              "      <th>99997</th>\n",
              "      <td>June</td>\n",
              "      <td>Mechanic</td>\n",
              "      <td>No</td>\n",
              "      <td>High_spent_Large_value_payments</td>\n",
              "      <td>Poor</td>\n",
              "    </tr>\n",
              "    <tr>\n",
              "      <th>99998</th>\n",
              "      <td>July</td>\n",
              "      <td>Mechanic</td>\n",
              "      <td>No</td>\n",
              "      <td>Low_spent_Large_value_payments</td>\n",
              "      <td>Standard</td>\n",
              "    </tr>\n",
              "    <tr>\n",
              "      <th>99999</th>\n",
              "      <td>August</td>\n",
              "      <td>Mechanic</td>\n",
              "      <td>No</td>\n",
              "      <td>Low_spent_Small_value_payments</td>\n",
              "      <td>Poor</td>\n",
              "    </tr>\n",
              "  </tbody>\n",
              "</table>\n",
              "<p>100000 rows × 5 columns</p>\n",
              "</div>\n",
              "      <button class=\"colab-df-convert\" onclick=\"convertToInteractive('df-a5a9482e-39e5-4848-8582-2752c860ea3a')\"\n",
              "              title=\"Convert this dataframe to an interactive table.\"\n",
              "              style=\"display:none;\">\n",
              "        \n",
              "  <svg xmlns=\"http://www.w3.org/2000/svg\" height=\"24px\"viewBox=\"0 0 24 24\"\n",
              "       width=\"24px\">\n",
              "    <path d=\"M0 0h24v24H0V0z\" fill=\"none\"/>\n",
              "    <path d=\"M18.56 5.44l.94 2.06.94-2.06 2.06-.94-2.06-.94-.94-2.06-.94 2.06-2.06.94zm-11 1L8.5 8.5l.94-2.06 2.06-.94-2.06-.94L8.5 2.5l-.94 2.06-2.06.94zm10 10l.94 2.06.94-2.06 2.06-.94-2.06-.94-.94-2.06-.94 2.06-2.06.94z\"/><path d=\"M17.41 7.96l-1.37-1.37c-.4-.4-.92-.59-1.43-.59-.52 0-1.04.2-1.43.59L10.3 9.45l-7.72 7.72c-.78.78-.78 2.05 0 2.83L4 21.41c.39.39.9.59 1.41.59.51 0 1.02-.2 1.41-.59l7.78-7.78 2.81-2.81c.8-.78.8-2.07 0-2.86zM5.41 20L4 18.59l7.72-7.72 1.47 1.35L5.41 20z\"/>\n",
              "  </svg>\n",
              "      </button>\n",
              "      \n",
              "  <style>\n",
              "    .colab-df-container {\n",
              "      display:flex;\n",
              "      flex-wrap:wrap;\n",
              "      gap: 12px;\n",
              "    }\n",
              "\n",
              "    .colab-df-convert {\n",
              "      background-color: #E8F0FE;\n",
              "      border: none;\n",
              "      border-radius: 50%;\n",
              "      cursor: pointer;\n",
              "      display: none;\n",
              "      fill: #1967D2;\n",
              "      height: 32px;\n",
              "      padding: 0 0 0 0;\n",
              "      width: 32px;\n",
              "    }\n",
              "\n",
              "    .colab-df-convert:hover {\n",
              "      background-color: #E2EBFA;\n",
              "      box-shadow: 0px 1px 2px rgba(60, 64, 67, 0.3), 0px 1px 3px 1px rgba(60, 64, 67, 0.15);\n",
              "      fill: #174EA6;\n",
              "    }\n",
              "\n",
              "    [theme=dark] .colab-df-convert {\n",
              "      background-color: #3B4455;\n",
              "      fill: #D2E3FC;\n",
              "    }\n",
              "\n",
              "    [theme=dark] .colab-df-convert:hover {\n",
              "      background-color: #434B5C;\n",
              "      box-shadow: 0px 1px 3px 1px rgba(0, 0, 0, 0.15);\n",
              "      filter: drop-shadow(0px 1px 2px rgba(0, 0, 0, 0.3));\n",
              "      fill: #FFFFFF;\n",
              "    }\n",
              "  </style>\n",
              "\n",
              "      <script>\n",
              "        const buttonEl =\n",
              "          document.querySelector('#df-a5a9482e-39e5-4848-8582-2752c860ea3a button.colab-df-convert');\n",
              "        buttonEl.style.display =\n",
              "          google.colab.kernel.accessAllowed ? 'block' : 'none';\n",
              "\n",
              "        async function convertToInteractive(key) {\n",
              "          const element = document.querySelector('#df-a5a9482e-39e5-4848-8582-2752c860ea3a');\n",
              "          const dataTable =\n",
              "            await google.colab.kernel.invokeFunction('convertToInteractive',\n",
              "                                                     [key], {});\n",
              "          if (!dataTable) return;\n",
              "\n",
              "          const docLinkHtml = 'Like what you see? Visit the ' +\n",
              "            '<a target=\"_blank\" href=https://colab.research.google.com/notebooks/data_table.ipynb>data table notebook</a>'\n",
              "            + ' to learn more about interactive tables.';\n",
              "          element.innerHTML = '';\n",
              "          dataTable['output_type'] = 'display_data';\n",
              "          await google.colab.output.renderOutput(dataTable, element);\n",
              "          const docLink = document.createElement('div');\n",
              "          docLink.innerHTML = docLinkHtml;\n",
              "          element.appendChild(docLink);\n",
              "        }\n",
              "      </script>\n",
              "    </div>\n",
              "  </div>\n",
              "  "
            ]
          },
          "metadata": {},
          "execution_count": 62
        }
      ],
      "id": "JWqpJut2j2YW"
    },
    {
      "cell_type": "code",
      "source": [
        "df['Credit_Score'].value_counts()"
      ],
      "metadata": {
        "execution": {
          "iopub.status.busy": "2022-10-15T06:06:42.576699Z",
          "iopub.execute_input": "2022-10-15T06:06:42.576930Z",
          "iopub.status.idle": "2022-10-15T06:06:42.593045Z",
          "shell.execute_reply.started": "2022-10-15T06:06:42.576905Z",
          "shell.execute_reply": "2022-10-15T06:06:42.592447Z"
        },
        "trusted": true,
        "id": "Ek9znIN4j2YW",
        "outputId": "c43a074d-e62b-455a-f2d0-5f2fec563bbd",
        "colab": {
          "base_uri": "https://localhost:8080/"
        }
      },
      "execution_count": null,
      "outputs": [
        {
          "output_type": "execute_result",
          "data": {
            "text/plain": [
              "Standard    53174\n",
              "Poor        28998\n",
              "Good        17828\n",
              "Name: Credit_Score, dtype: int64"
            ]
          },
          "metadata": {},
          "execution_count": 63
        }
      ],
      "id": "Ek9znIN4j2YW"
    },
    {
      "cell_type": "code",
      "source": [
        "m = {\n",
        "    \"Poor\":0,\n",
        "    \"Standard\":1,\n",
        "    \"Good\":2\n",
        "}"
      ],
      "metadata": {
        "execution": {
          "iopub.status.busy": "2022-10-15T06:06:42.593942Z",
          "iopub.execute_input": "2022-10-15T06:06:42.594520Z",
          "iopub.status.idle": "2022-10-15T06:06:42.604133Z",
          "shell.execute_reply.started": "2022-10-15T06:06:42.594486Z",
          "shell.execute_reply": "2022-10-15T06:06:42.603364Z"
        },
        "trusted": true,
        "id": "MKXthXQvj2YX"
      },
      "execution_count": null,
      "outputs": [],
      "id": "MKXthXQvj2YX"
    },
    {
      "cell_type": "code",
      "source": [
        "df['Credit_Score'] = df['Credit_Score'].map(m)"
      ],
      "metadata": {
        "execution": {
          "iopub.status.busy": "2022-10-15T06:06:42.605354Z",
          "iopub.execute_input": "2022-10-15T06:06:42.605662Z",
          "iopub.status.idle": "2022-10-15T06:06:42.627655Z",
          "shell.execute_reply.started": "2022-10-15T06:06:42.605635Z",
          "shell.execute_reply": "2022-10-15T06:06:42.626631Z"
        },
        "trusted": true,
        "id": "ZYNrAvLij2YX"
      },
      "execution_count": null,
      "outputs": [],
      "id": "ZYNrAvLij2YX"
    },
    {
      "cell_type": "code",
      "source": [
        "del df['Customer_ID']"
      ],
      "metadata": {
        "execution": {
          "iopub.status.busy": "2022-10-15T06:06:42.629395Z",
          "iopub.execute_input": "2022-10-15T06:06:42.629698Z",
          "iopub.status.idle": "2022-10-15T06:06:42.635545Z",
          "shell.execute_reply.started": "2022-10-15T06:06:42.629660Z",
          "shell.execute_reply": "2022-10-15T06:06:42.634972Z"
        },
        "trusted": true,
        "id": "tkPe8RBCj2YX"
      },
      "execution_count": null,
      "outputs": [],
      "id": "tkPe8RBCj2YX"
    },
    {
      "cell_type": "code",
      "source": [
        "df = pd.get_dummies(df,drop_first=True)"
      ],
      "metadata": {
        "execution": {
          "iopub.status.busy": "2022-10-15T06:06:42.636619Z",
          "iopub.execute_input": "2022-10-15T06:06:42.636944Z",
          "iopub.status.idle": "2022-10-15T06:06:42.732126Z",
          "shell.execute_reply.started": "2022-10-15T06:06:42.636918Z",
          "shell.execute_reply": "2022-10-15T06:06:42.731478Z"
        },
        "trusted": true,
        "id": "gl_befbKj2YX"
      },
      "execution_count": null,
      "outputs": [],
      "id": "gl_befbKj2YX"
    },
    {
      "cell_type": "code",
      "source": [
        "df.info()"
      ],
      "metadata": {
        "execution": {
          "iopub.status.busy": "2022-10-15T06:06:42.733261Z",
          "iopub.execute_input": "2022-10-15T06:06:42.733535Z",
          "iopub.status.idle": "2022-10-15T06:06:42.759553Z",
          "shell.execute_reply.started": "2022-10-15T06:06:42.733506Z",
          "shell.execute_reply": "2022-10-15T06:06:42.758447Z"
        },
        "trusted": true,
        "id": "4g-JezwAj2YY",
        "outputId": "02f59d24-ce67-4385-b723-2e10d3372b6c",
        "colab": {
          "base_uri": "https://localhost:8080/"
        }
      },
      "execution_count": null,
      "outputs": [
        {
          "output_type": "stream",
          "name": "stdout",
          "text": [
            "<class 'pandas.core.frame.DataFrame'>\n",
            "RangeIndex: 100000 entries, 0 to 99999\n",
            "Data columns (total 54 columns):\n",
            " #   Column                                              Non-Null Count   Dtype  \n",
            "---  ------                                              --------------   -----  \n",
            " 0   Age                                                 100000 non-null  float64\n",
            " 1   Annual_Income                                       100000 non-null  float64\n",
            " 2   Monthly_Inhand_Salary                               100000 non-null  float64\n",
            " 3   Num_Bank_Accounts                                   100000 non-null  float64\n",
            " 4   Num_Credit_Card                                     100000 non-null  float64\n",
            " 5   Interest_Rate                                       100000 non-null  float64\n",
            " 6   Num_of_Loan                                         100000 non-null  float64\n",
            " 7   Delay_from_due_date                                 100000 non-null  float64\n",
            " 8   Num_of_Delayed_Payment                              100000 non-null  float64\n",
            " 9   Changed_Credit_Limit                                100000 non-null  float64\n",
            " 10  Num_Credit_Inquiries                                100000 non-null  float64\n",
            " 11  Credit_Mix                                          100000 non-null  float64\n",
            " 12  Outstanding_Debt                                    100000 non-null  float64\n",
            " 13  Credit_Utilization_Ratio                            100000 non-null  float64\n",
            " 14  Credit_History_Age                                  100000 non-null  float64\n",
            " 15  Total_EMI_per_month                                 100000 non-null  float64\n",
            " 16  Amount_invested_monthly                             100000 non-null  float64\n",
            " 17  Monthly_Balance                                     100000 non-null  float64\n",
            " 18  Credit_Score                                        100000 non-null  int64  \n",
            " 19  Credit-Builder Loan                                 100000 non-null  float64\n",
            " 20  Personal Loan                                       100000 non-null  float64\n",
            " 21  Debt Consolidation Loan                             100000 non-null  float64\n",
            " 22  Student Loan                                        100000 non-null  float64\n",
            " 23  Payday Loan                                         100000 non-null  float64\n",
            " 24  Mortgage Loan                                       100000 non-null  float64\n",
            " 25  Auto Loan                                           100000 non-null  float64\n",
            " 26  Home Equity Loan                                    100000 non-null  float64\n",
            " 27  Month_August                                        100000 non-null  uint8  \n",
            " 28  Month_February                                      100000 non-null  uint8  \n",
            " 29  Month_January                                       100000 non-null  uint8  \n",
            " 30  Month_July                                          100000 non-null  uint8  \n",
            " 31  Month_June                                          100000 non-null  uint8  \n",
            " 32  Month_March                                         100000 non-null  uint8  \n",
            " 33  Month_May                                           100000 non-null  uint8  \n",
            " 34  Occupation_Architect                                100000 non-null  uint8  \n",
            " 35  Occupation_Developer                                100000 non-null  uint8  \n",
            " 36  Occupation_Doctor                                   100000 non-null  uint8  \n",
            " 37  Occupation_Engineer                                 100000 non-null  uint8  \n",
            " 38  Occupation_Entrepreneur                             100000 non-null  uint8  \n",
            " 39  Occupation_Journalist                               100000 non-null  uint8  \n",
            " 40  Occupation_Lawyer                                   100000 non-null  uint8  \n",
            " 41  Occupation_Manager                                  100000 non-null  uint8  \n",
            " 42  Occupation_Mechanic                                 100000 non-null  uint8  \n",
            " 43  Occupation_Media_Manager                            100000 non-null  uint8  \n",
            " 44  Occupation_Musician                                 100000 non-null  uint8  \n",
            " 45  Occupation_Scientist                                100000 non-null  uint8  \n",
            " 46  Occupation_Teacher                                  100000 non-null  uint8  \n",
            " 47  Occupation_Writer                                   100000 non-null  uint8  \n",
            " 48  Payment_of_Min_Amount_Yes                           100000 non-null  uint8  \n",
            " 49  Payment_Behaviour_High_spent_Medium_value_payments  100000 non-null  uint8  \n",
            " 50  Payment_Behaviour_High_spent_Small_value_payments   100000 non-null  uint8  \n",
            " 51  Payment_Behaviour_Low_spent_Large_value_payments    100000 non-null  uint8  \n",
            " 52  Payment_Behaviour_Low_spent_Medium_value_payments   100000 non-null  uint8  \n",
            " 53  Payment_Behaviour_Low_spent_Small_value_payments    100000 non-null  uint8  \n",
            "dtypes: float64(26), int64(1), uint8(27)\n",
            "memory usage: 23.2 MB\n"
          ]
        }
      ],
      "id": "4g-JezwAj2YY"
    },
    {
      "cell_type": "code",
      "source": [
        "X, y = df.drop(\"Credit_Score\",axis=1).values , df[\"Credit_Score\"] "
      ],
      "metadata": {
        "execution": {
          "iopub.status.busy": "2022-10-15T06:16:35.864013Z",
          "iopub.execute_input": "2022-10-15T06:16:35.864385Z",
          "iopub.status.idle": "2022-10-15T06:16:35.895638Z",
          "shell.execute_reply.started": "2022-10-15T06:16:35.864322Z",
          "shell.execute_reply": "2022-10-15T06:16:35.894938Z"
        },
        "trusted": true,
        "id": "PoBEG_t0j2YZ"
      },
      "execution_count": null,
      "outputs": [],
      "id": "PoBEG_t0j2YZ"
    },
    {
      "cell_type": "code",
      "source": [
        "y.value_counts(normalize=True)"
      ],
      "metadata": {
        "execution": {
          "iopub.status.busy": "2022-10-15T06:16:36.265494Z",
          "iopub.execute_input": "2022-10-15T06:16:36.265984Z",
          "iopub.status.idle": "2022-10-15T06:16:36.276152Z",
          "shell.execute_reply.started": "2022-10-15T06:16:36.265943Z",
          "shell.execute_reply": "2022-10-15T06:16:36.275230Z"
        },
        "trusted": true,
        "id": "dr_CmwdQj2YZ",
        "outputId": "86bfaf05-aa2c-421c-935f-ce7619881f40",
        "colab": {
          "base_uri": "https://localhost:8080/"
        }
      },
      "execution_count": null,
      "outputs": [
        {
          "output_type": "execute_result",
          "data": {
            "text/plain": [
              "1    0.53174\n",
              "0    0.28998\n",
              "2    0.17828\n",
              "Name: Credit_Score, dtype: float64"
            ]
          },
          "metadata": {},
          "execution_count": 72
        }
      ],
      "id": "dr_CmwdQj2YZ"
    },
    {
      "cell_type": "code",
      "source": [
        "from imblearn.over_sampling import SMOTE\n",
        "rus = SMOTE(sampling_strategy='auto')\n",
        "X_data_rus, y_data_rus = rus.fit_resample(X, y)"
      ],
      "metadata": {
        "execution": {
          "iopub.status.busy": "2022-10-15T06:17:37.591881Z",
          "iopub.execute_input": "2022-10-15T06:17:37.592181Z",
          "iopub.status.idle": "2022-10-15T06:17:39.492131Z",
          "shell.execute_reply.started": "2022-10-15T06:17:37.592151Z",
          "shell.execute_reply": "2022-10-15T06:17:39.491026Z"
        },
        "trusted": true,
        "id": "DRVViiYYj2YZ"
      },
      "execution_count": null,
      "outputs": [],
      "id": "DRVViiYYj2YZ"
    },
    {
      "cell_type": "code",
      "source": [
        "y_data_rus.value_counts(normalize=True)"
      ],
      "metadata": {
        "execution": {
          "iopub.status.busy": "2022-10-15T06:17:40.976951Z",
          "iopub.execute_input": "2022-10-15T06:17:40.977274Z",
          "iopub.status.idle": "2022-10-15T06:17:40.987585Z",
          "shell.execute_reply.started": "2022-10-15T06:17:40.977240Z",
          "shell.execute_reply": "2022-10-15T06:17:40.986776Z"
        },
        "trusted": true,
        "id": "VExkIQjJj2YZ",
        "outputId": "34424287-a63e-47d1-d6f0-958aa0a96e0b",
        "colab": {
          "base_uri": "https://localhost:8080/"
        }
      },
      "execution_count": null,
      "outputs": [
        {
          "output_type": "execute_result",
          "data": {
            "text/plain": [
              "2    0.333333\n",
              "1    0.333333\n",
              "0    0.333333\n",
              "Name: Credit_Score, dtype: float64"
            ]
          },
          "metadata": {},
          "execution_count": 74
        }
      ],
      "id": "VExkIQjJj2YZ"
    },
    {
      "cell_type": "code",
      "source": [
        "# split into train and test sets\n",
        "X_train, X_test, y_train, y_test = train_test_split(X_data_rus, y_data_rus, test_size=0.3, random_state=42,stratify=y_data_rus)"
      ],
      "metadata": {
        "execution": {
          "iopub.status.busy": "2022-10-15T06:17:41.756040Z",
          "iopub.execute_input": "2022-10-15T06:17:41.756350Z",
          "iopub.status.idle": "2022-10-15T06:17:41.862651Z",
          "shell.execute_reply.started": "2022-10-15T06:17:41.756315Z",
          "shell.execute_reply": "2022-10-15T06:17:41.861870Z"
        },
        "trusted": true,
        "id": "htx7dOeRj2Ya"
      },
      "execution_count": null,
      "outputs": [],
      "id": "htx7dOeRj2Ya"
    },
    {
      "cell_type": "markdown",
      "source": [
        "### Handling Numerical \n",
        "- Using Power transformer to avoid Data Skewness"
      ],
      "metadata": {
        "id": "B6cCxC3zj2Ya"
      },
      "id": "B6cCxC3zj2Ya"
    },
    {
      "cell_type": "code",
      "source": [
        "scalar = PowerTransformer(method='yeo-johnson', standardize=True).fit(X_train)"
      ],
      "metadata": {
        "execution": {
          "iopub.status.busy": "2022-10-15T06:17:42.390904Z",
          "iopub.execute_input": "2022-10-15T06:17:42.391241Z",
          "iopub.status.idle": "2022-10-15T06:17:51.935726Z",
          "shell.execute_reply.started": "2022-10-15T06:17:42.391202Z",
          "shell.execute_reply": "2022-10-15T06:17:51.934717Z"
        },
        "trusted": true,
        "id": "EnOddK1fj2Ya"
      },
      "execution_count": null,
      "outputs": [],
      "id": "EnOddK1fj2Ya"
    },
    {
      "cell_type": "code",
      "source": [
        "X_train = scalar.transform(X_train)\n",
        "X_test = scalar.transform(X_test)"
      ],
      "metadata": {
        "execution": {
          "iopub.status.busy": "2022-10-15T06:17:51.937794Z",
          "iopub.execute_input": "2022-10-15T06:17:51.939155Z",
          "iopub.status.idle": "2022-10-15T06:17:52.881831Z",
          "shell.execute_reply.started": "2022-10-15T06:17:51.939106Z",
          "shell.execute_reply": "2022-10-15T06:17:52.880707Z"
        },
        "trusted": true,
        "id": "C3oA_wKQj2Ya"
      },
      "execution_count": null,
      "outputs": [],
      "id": "C3oA_wKQj2Ya"
    },
    {
      "cell_type": "markdown",
      "source": [
        "# Modeling and Evaluation\n"
      ],
      "metadata": {
        "id": "bi0ay7pCj2Yb"
      },
      "id": "bi0ay7pCj2Yb"
    },
    {
      "cell_type": "markdown",
      "source": [
        "#### Model Building"
      ],
      "metadata": {
        "id": "QUjGzQf8j2Yb"
      },
      "id": "QUjGzQf8j2Yb"
    },
    {
      "cell_type": "code",
      "source": [
        "bagging = BaggingClassifier(n_jobs=-1)\n",
        "extraTrees = ExtraTreesClassifier(max_depth=10, n_jobs=-1)\n",
        "randomForest = RandomForestClassifier(n_jobs=-1)\n",
        "histGradientBoosting = HistGradientBoostingClassifier()\n",
        "XGB = XGBClassifier(n_jobs=-1)\n",
        "\n",
        "model = StackingClassifier([\n",
        "    ('bagging', bagging),\n",
        "    ('extraTress', extraTrees),\n",
        "    ('randomforest', randomForest),\n",
        "    ('histGradientBoosting', histGradientBoosting),\n",
        "    ('XGB', XGB)\n",
        "], n_jobs=-1)"
      ],
      "metadata": {
        "execution": {
          "iopub.status.busy": "2022-10-15T06:19:01.758344Z",
          "iopub.execute_input": "2022-10-15T06:19:01.758655Z",
          "iopub.status.idle": "2022-10-15T06:19:01.764831Z",
          "shell.execute_reply.started": "2022-10-15T06:19:01.758619Z",
          "shell.execute_reply": "2022-10-15T06:19:01.764077Z"
        },
        "trusted": true,
        "id": "UYk5ibHRj2Yb"
      },
      "execution_count": null,
      "outputs": [],
      "id": "UYk5ibHRj2Yb"
    },
    {
      "cell_type": "markdown",
      "source": [
        "#### Model fitting"
      ],
      "metadata": {
        "id": "LLNK36Tbj2Yb"
      },
      "id": "LLNK36Tbj2Yb"
    },
    {
      "cell_type": "code",
      "source": [
        "model.fit(X_train, y_train)"
      ],
      "metadata": {
        "execution": {
          "iopub.status.busy": "2022-10-15T06:19:03.059511Z",
          "iopub.execute_input": "2022-10-15T06:19:03.060632Z",
          "iopub.status.idle": "2022-10-15T06:30:41.257350Z",
          "shell.execute_reply.started": "2022-10-15T06:19:03.060580Z",
          "shell.execute_reply": "2022-10-15T06:30:41.255989Z"
        },
        "trusted": true,
        "id": "MY9gKBbvj2Yb",
        "outputId": "9753f161-e6f7-47a6-c0b3-9c2e1b2e82e5",
        "colab": {
          "base_uri": "https://localhost:8080/",
          "height": 164
        }
      },
      "execution_count": null,
      "outputs": [
        {
          "output_type": "execute_result",
          "data": {
            "text/plain": [
              "StackingClassifier(estimators=[('bagging', BaggingClassifier(n_jobs=-1)),\n",
              "                               ('extraTress',\n",
              "                                ExtraTreesClassifier(max_depth=10, n_jobs=-1)),\n",
              "                               ('randomforest',\n",
              "                                RandomForestClassifier(n_jobs=-1)),\n",
              "                               ('histGradientBoosting',\n",
              "                                HistGradientBoostingClassifier()),\n",
              "                               ('XGB',\n",
              "                                XGBClassifier(base_score=None, booster=None,\n",
              "                                              callbacks=None,\n",
              "                                              colsample_bylevel=None,\n",
              "                                              colsample_bynode=None...\n",
              "                                              gpu_id=None, grow_policy=None,\n",
              "                                              importance_type=None,\n",
              "                                              interaction_constraints=None,\n",
              "                                              learning_rate=None, max_bin=None,\n",
              "                                              max_cat_threshold=None,\n",
              "                                              max_cat_to_onehot=None,\n",
              "                                              max_delta_step=None,\n",
              "                                              max_depth=None, max_leaves=None,\n",
              "                                              min_child_weight=None,\n",
              "                                              missing=nan,\n",
              "                                              monotone_constraints=None,\n",
              "                                              n_estimators=100, n_jobs=-1,\n",
              "                                              num_parallel_tree=None,\n",
              "                                              predictor=None, random_state=None, ...))],\n",
              "                   n_jobs=-1)"
            ],
            "text/html": [
              "<style>#sk-container-id-1 {color: black;background-color: white;}#sk-container-id-1 pre{padding: 0;}#sk-container-id-1 div.sk-toggleable {background-color: white;}#sk-container-id-1 label.sk-toggleable__label {cursor: pointer;display: block;width: 100%;margin-bottom: 0;padding: 0.3em;box-sizing: border-box;text-align: center;}#sk-container-id-1 label.sk-toggleable__label-arrow:before {content: \"▸\";float: left;margin-right: 0.25em;color: #696969;}#sk-container-id-1 label.sk-toggleable__label-arrow:hover:before {color: black;}#sk-container-id-1 div.sk-estimator:hover label.sk-toggleable__label-arrow:before {color: black;}#sk-container-id-1 div.sk-toggleable__content {max-height: 0;max-width: 0;overflow: hidden;text-align: left;background-color: #f0f8ff;}#sk-container-id-1 div.sk-toggleable__content pre {margin: 0.2em;color: black;border-radius: 0.25em;background-color: #f0f8ff;}#sk-container-id-1 input.sk-toggleable__control:checked~div.sk-toggleable__content {max-height: 200px;max-width: 100%;overflow: auto;}#sk-container-id-1 input.sk-toggleable__control:checked~label.sk-toggleable__label-arrow:before {content: \"▾\";}#sk-container-id-1 div.sk-estimator input.sk-toggleable__control:checked~label.sk-toggleable__label {background-color: #d4ebff;}#sk-container-id-1 div.sk-label input.sk-toggleable__control:checked~label.sk-toggleable__label {background-color: #d4ebff;}#sk-container-id-1 input.sk-hidden--visually {border: 0;clip: rect(1px 1px 1px 1px);clip: rect(1px, 1px, 1px, 1px);height: 1px;margin: -1px;overflow: hidden;padding: 0;position: absolute;width: 1px;}#sk-container-id-1 div.sk-estimator {font-family: monospace;background-color: #f0f8ff;border: 1px dotted black;border-radius: 0.25em;box-sizing: border-box;margin-bottom: 0.5em;}#sk-container-id-1 div.sk-estimator:hover {background-color: #d4ebff;}#sk-container-id-1 div.sk-parallel-item::after {content: \"\";width: 100%;border-bottom: 1px solid gray;flex-grow: 1;}#sk-container-id-1 div.sk-label:hover label.sk-toggleable__label {background-color: #d4ebff;}#sk-container-id-1 div.sk-serial::before {content: \"\";position: absolute;border-left: 1px solid gray;box-sizing: border-box;top: 0;bottom: 0;left: 50%;z-index: 0;}#sk-container-id-1 div.sk-serial {display: flex;flex-direction: column;align-items: center;background-color: white;padding-right: 0.2em;padding-left: 0.2em;position: relative;}#sk-container-id-1 div.sk-item {position: relative;z-index: 1;}#sk-container-id-1 div.sk-parallel {display: flex;align-items: stretch;justify-content: center;background-color: white;position: relative;}#sk-container-id-1 div.sk-item::before, #sk-container-id-1 div.sk-parallel-item::before {content: \"\";position: absolute;border-left: 1px solid gray;box-sizing: border-box;top: 0;bottom: 0;left: 50%;z-index: -1;}#sk-container-id-1 div.sk-parallel-item {display: flex;flex-direction: column;z-index: 1;position: relative;background-color: white;}#sk-container-id-1 div.sk-parallel-item:first-child::after {align-self: flex-end;width: 50%;}#sk-container-id-1 div.sk-parallel-item:last-child::after {align-self: flex-start;width: 50%;}#sk-container-id-1 div.sk-parallel-item:only-child::after {width: 0;}#sk-container-id-1 div.sk-dashed-wrapped {border: 1px dashed gray;margin: 0 0.4em 0.5em 0.4em;box-sizing: border-box;padding-bottom: 0.4em;background-color: white;}#sk-container-id-1 div.sk-label label {font-family: monospace;font-weight: bold;display: inline-block;line-height: 1.2em;}#sk-container-id-1 div.sk-label-container {text-align: center;}#sk-container-id-1 div.sk-container {/* jupyter's `normalize.less` sets `[hidden] { display: none; }` but bootstrap.min.css set `[hidden] { display: none !important; }` so we also need the `!important` here to be able to override the default hidden behavior on the sphinx rendered scikit-learn.org. See: https://github.com/scikit-learn/scikit-learn/issues/21755 */display: inline-block !important;position: relative;}#sk-container-id-1 div.sk-text-repr-fallback {display: none;}</style><div id=\"sk-container-id-1\" class=\"sk-top-container\"><div class=\"sk-text-repr-fallback\"><pre>StackingClassifier(estimators=[(&#x27;bagging&#x27;, BaggingClassifier(n_jobs=-1)),\n",
              "                               (&#x27;extraTress&#x27;,\n",
              "                                ExtraTreesClassifier(max_depth=10, n_jobs=-1)),\n",
              "                               (&#x27;randomforest&#x27;,\n",
              "                                RandomForestClassifier(n_jobs=-1)),\n",
              "                               (&#x27;histGradientBoosting&#x27;,\n",
              "                                HistGradientBoostingClassifier()),\n",
              "                               (&#x27;XGB&#x27;,\n",
              "                                XGBClassifier(base_score=None, booster=None,\n",
              "                                              callbacks=None,\n",
              "                                              colsample_bylevel=None,\n",
              "                                              colsample_bynode=None...\n",
              "                                              gpu_id=None, grow_policy=None,\n",
              "                                              importance_type=None,\n",
              "                                              interaction_constraints=None,\n",
              "                                              learning_rate=None, max_bin=None,\n",
              "                                              max_cat_threshold=None,\n",
              "                                              max_cat_to_onehot=None,\n",
              "                                              max_delta_step=None,\n",
              "                                              max_depth=None, max_leaves=None,\n",
              "                                              min_child_weight=None,\n",
              "                                              missing=nan,\n",
              "                                              monotone_constraints=None,\n",
              "                                              n_estimators=100, n_jobs=-1,\n",
              "                                              num_parallel_tree=None,\n",
              "                                              predictor=None, random_state=None, ...))],\n",
              "                   n_jobs=-1)</pre><b>In a Jupyter environment, please rerun this cell to show the HTML representation or trust the notebook. <br />On GitHub, the HTML representation is unable to render, please try loading this page with nbviewer.org.</b></div><div class=\"sk-container\" hidden><div class=\"sk-item sk-dashed-wrapped\"><div class=\"sk-label-container\"><div class=\"sk-label sk-toggleable\"><input class=\"sk-toggleable__control sk-hidden--visually\" id=\"sk-estimator-id-1\" type=\"checkbox\" ><label for=\"sk-estimator-id-1\" class=\"sk-toggleable__label sk-toggleable__label-arrow\">StackingClassifier</label><div class=\"sk-toggleable__content\"><pre>StackingClassifier(estimators=[(&#x27;bagging&#x27;, BaggingClassifier(n_jobs=-1)),\n",
              "                               (&#x27;extraTress&#x27;,\n",
              "                                ExtraTreesClassifier(max_depth=10, n_jobs=-1)),\n",
              "                               (&#x27;randomforest&#x27;,\n",
              "                                RandomForestClassifier(n_jobs=-1)),\n",
              "                               (&#x27;histGradientBoosting&#x27;,\n",
              "                                HistGradientBoostingClassifier()),\n",
              "                               (&#x27;XGB&#x27;,\n",
              "                                XGBClassifier(base_score=None, booster=None,\n",
              "                                              callbacks=None,\n",
              "                                              colsample_bylevel=None,\n",
              "                                              colsample_bynode=None...\n",
              "                                              gpu_id=None, grow_policy=None,\n",
              "                                              importance_type=None,\n",
              "                                              interaction_constraints=None,\n",
              "                                              learning_rate=None, max_bin=None,\n",
              "                                              max_cat_threshold=None,\n",
              "                                              max_cat_to_onehot=None,\n",
              "                                              max_delta_step=None,\n",
              "                                              max_depth=None, max_leaves=None,\n",
              "                                              min_child_weight=None,\n",
              "                                              missing=nan,\n",
              "                                              monotone_constraints=None,\n",
              "                                              n_estimators=100, n_jobs=-1,\n",
              "                                              num_parallel_tree=None,\n",
              "                                              predictor=None, random_state=None, ...))],\n",
              "                   n_jobs=-1)</pre></div></div></div><div class=\"sk-serial\"><div class=\"sk-item\"><div class=\"sk-parallel\"><div class=\"sk-parallel-item\"><div class=\"sk-item\"><div class=\"sk-label-container\"><div class=\"sk-label sk-toggleable\"><label>bagging</label></div></div><div class=\"sk-serial\"><div class=\"sk-item\"><div class=\"sk-estimator sk-toggleable\"><input class=\"sk-toggleable__control sk-hidden--visually\" id=\"sk-estimator-id-2\" type=\"checkbox\" ><label for=\"sk-estimator-id-2\" class=\"sk-toggleable__label sk-toggleable__label-arrow\">BaggingClassifier</label><div class=\"sk-toggleable__content\"><pre>BaggingClassifier(n_jobs=-1)</pre></div></div></div></div></div></div><div class=\"sk-parallel-item\"><div class=\"sk-item\"><div class=\"sk-label-container\"><div class=\"sk-label sk-toggleable\"><label>extraTress</label></div></div><div class=\"sk-serial\"><div class=\"sk-item\"><div class=\"sk-estimator sk-toggleable\"><input class=\"sk-toggleable__control sk-hidden--visually\" id=\"sk-estimator-id-3\" type=\"checkbox\" ><label for=\"sk-estimator-id-3\" class=\"sk-toggleable__label sk-toggleable__label-arrow\">ExtraTreesClassifier</label><div class=\"sk-toggleable__content\"><pre>ExtraTreesClassifier(max_depth=10, n_jobs=-1)</pre></div></div></div></div></div></div><div class=\"sk-parallel-item\"><div class=\"sk-item\"><div class=\"sk-label-container\"><div class=\"sk-label sk-toggleable\"><label>randomforest</label></div></div><div class=\"sk-serial\"><div class=\"sk-item\"><div class=\"sk-estimator sk-toggleable\"><input class=\"sk-toggleable__control sk-hidden--visually\" id=\"sk-estimator-id-4\" type=\"checkbox\" ><label for=\"sk-estimator-id-4\" class=\"sk-toggleable__label sk-toggleable__label-arrow\">RandomForestClassifier</label><div class=\"sk-toggleable__content\"><pre>RandomForestClassifier(n_jobs=-1)</pre></div></div></div></div></div></div><div class=\"sk-parallel-item\"><div class=\"sk-item\"><div class=\"sk-label-container\"><div class=\"sk-label sk-toggleable\"><label>histGradientBoosting</label></div></div><div class=\"sk-serial\"><div class=\"sk-item\"><div class=\"sk-estimator sk-toggleable\"><input class=\"sk-toggleable__control sk-hidden--visually\" id=\"sk-estimator-id-5\" type=\"checkbox\" ><label for=\"sk-estimator-id-5\" class=\"sk-toggleable__label sk-toggleable__label-arrow\">HistGradientBoostingClassifier</label><div class=\"sk-toggleable__content\"><pre>HistGradientBoostingClassifier()</pre></div></div></div></div></div></div><div class=\"sk-parallel-item\"><div class=\"sk-item\"><div class=\"sk-label-container\"><div class=\"sk-label sk-toggleable\"><label>XGB</label></div></div><div class=\"sk-serial\"><div class=\"sk-item\"><div class=\"sk-estimator sk-toggleable\"><input class=\"sk-toggleable__control sk-hidden--visually\" id=\"sk-estimator-id-6\" type=\"checkbox\" ><label for=\"sk-estimator-id-6\" class=\"sk-toggleable__label sk-toggleable__label-arrow\">XGBClassifier</label><div class=\"sk-toggleable__content\"><pre>XGBClassifier(base_score=None, booster=None, callbacks=None,\n",
              "              colsample_bylevel=None, colsample_bynode=None,\n",
              "              colsample_bytree=None, early_stopping_rounds=None,\n",
              "              enable_categorical=False, eval_metric=None, feature_types=None,\n",
              "              gamma=None, gpu_id=None, grow_policy=None, importance_type=None,\n",
              "              interaction_constraints=None, learning_rate=None, max_bin=None,\n",
              "              max_cat_threshold=None, max_cat_to_onehot=None,\n",
              "              max_delta_step=None, max_depth=None, max_leaves=None,\n",
              "              min_child_weight=None, missing=nan, monotone_constraints=None,\n",
              "              n_estimators=100, n_jobs=-1, num_parallel_tree=None,\n",
              "              predictor=None, random_state=None, ...)</pre></div></div></div></div></div></div></div></div><div class=\"sk-item\"><div class=\"sk-parallel\"><div class=\"sk-parallel-item\"><div class=\"sk-item\"><div class=\"sk-label-container\"><div class=\"sk-label sk-toggleable\"><label>final_estimator</label></div></div><div class=\"sk-serial\"><div class=\"sk-item\"><div class=\"sk-estimator sk-toggleable\"><input class=\"sk-toggleable__control sk-hidden--visually\" id=\"sk-estimator-id-7\" type=\"checkbox\" ><label for=\"sk-estimator-id-7\" class=\"sk-toggleable__label sk-toggleable__label-arrow\">LogisticRegression</label><div class=\"sk-toggleable__content\"><pre>LogisticRegression()</pre></div></div></div></div></div></div></div></div></div></div></div></div>"
            ]
          },
          "metadata": {},
          "execution_count": 79
        }
      ],
      "id": "MY9gKBbvj2Yb"
    },
    {
      "cell_type": "markdown",
      "source": [
        "#### model evaluation"
      ],
      "metadata": {
        "id": "tTFZL_IDj2Yc"
      },
      "id": "tTFZL_IDj2Yc"
    },
    {
      "cell_type": "code",
      "source": [
        "print(\"Train Score: \",model.score(X_train, y_train))"
      ],
      "metadata": {
        "execution": {
          "iopub.status.busy": "2022-10-15T06:30:41.266021Z",
          "iopub.execute_input": "2022-10-15T06:30:41.270189Z",
          "iopub.status.idle": "2022-10-15T06:30:47.726003Z",
          "shell.execute_reply.started": "2022-10-15T06:30:41.270080Z",
          "shell.execute_reply": "2022-10-15T06:30:47.724857Z"
        },
        "trusted": true,
        "id": "G9G6NR-rj2Yc",
        "outputId": "80439e67-3d73-4dbe-edee-56815b1f2106",
        "colab": {
          "base_uri": "https://localhost:8080/"
        }
      },
      "execution_count": null,
      "outputs": [
        {
          "output_type": "stream",
          "name": "stdout",
          "text": [
            "Train Score:  0.9993014821116734\n"
          ]
        }
      ],
      "id": "G9G6NR-rj2Yc"
    },
    {
      "cell_type": "code",
      "source": [
        "print(\"Test Score: \",model.score(X_test, y_test))"
      ],
      "metadata": {
        "execution": {
          "iopub.status.busy": "2022-10-15T06:30:47.728252Z",
          "iopub.execute_input": "2022-10-15T06:30:47.728937Z",
          "iopub.status.idle": "2022-10-15T06:30:50.301546Z",
          "shell.execute_reply.started": "2022-10-15T06:30:47.728886Z",
          "shell.execute_reply": "2022-10-15T06:30:50.300593Z"
        },
        "trusted": true,
        "id": "zxYyuW8Aj2Yc",
        "outputId": "e2689a94-498e-4d8e-8115-3c3b4f6b49c1",
        "colab": {
          "base_uri": "https://localhost:8080/"
        }
      },
      "execution_count": null,
      "outputs": [
        {
          "output_type": "stream",
          "name": "stdout",
          "text": [
            "Test Score:  0.8501368660801972\n"
          ]
        }
      ],
      "id": "zxYyuW8Aj2Yc"
    },
    {
      "cell_type": "code",
      "source": [
        "y_pred = model.predict(X_test)"
      ],
      "metadata": {
        "execution": {
          "iopub.status.busy": "2022-10-15T06:30:50.304309Z",
          "iopub.execute_input": "2022-10-15T06:30:50.304905Z",
          "iopub.status.idle": "2022-10-15T06:30:53.115109Z",
          "shell.execute_reply.started": "2022-10-15T06:30:50.304862Z",
          "shell.execute_reply": "2022-10-15T06:30:53.113972Z"
        },
        "trusted": true,
        "id": "a6Vcyoq2j2Yc"
      },
      "execution_count": null,
      "outputs": [],
      "id": "a6Vcyoq2j2Yc"
    },
    {
      "cell_type": "code",
      "source": [
        "print(classification_report(y_pred,y_test))"
      ],
      "metadata": {
        "execution": {
          "iopub.status.busy": "2022-10-15T06:30:53.125529Z",
          "iopub.execute_input": "2022-10-15T06:30:53.126214Z",
          "iopub.status.idle": "2022-10-15T06:30:53.289719Z",
          "shell.execute_reply.started": "2022-10-15T06:30:53.126170Z",
          "shell.execute_reply": "2022-10-15T06:30:53.288894Z"
        },
        "trusted": true,
        "id": "vnSKf--8j2Yc",
        "outputId": "d5e99b0d-3748-43ae-e4b5-348782ba5060",
        "colab": {
          "base_uri": "https://localhost:8080/"
        }
      },
      "execution_count": null,
      "outputs": [
        {
          "output_type": "stream",
          "name": "stdout",
          "text": [
            "              precision    recall  f1-score   support\n",
            "\n",
            "           0       0.85      0.87      0.86     15463\n",
            "           1       0.81      0.79      0.80     16247\n",
            "           2       0.90      0.89      0.89     16147\n",
            "\n",
            "    accuracy                           0.85     47857\n",
            "   macro avg       0.85      0.85      0.85     47857\n",
            "weighted avg       0.85      0.85      0.85     47857\n",
            "\n"
          ]
        }
      ],
      "id": "vnSKf--8j2Yc"
    },
    {
      "cell_type": "markdown",
      "source": [
        "#### model Saving"
      ],
      "metadata": {
        "id": "vZ4fub-Vj2Yd"
      },
      "id": "vZ4fub-Vj2Yd"
    },
    {
      "cell_type": "code",
      "source": [
        "# joblib.dump(model,'model.h5')\n",
        "# joblib.dump(scalar,'scalar.h5')"
      ],
      "metadata": {
        "execution": {
          "iopub.status.busy": "2022-10-15T06:30:53.329830Z",
          "iopub.execute_input": "2022-10-15T06:30:53.331172Z",
          "iopub.status.idle": "2022-10-15T06:30:53.336659Z",
          "shell.execute_reply.started": "2022-10-15T06:30:53.331129Z",
          "shell.execute_reply": "2022-10-15T06:30:53.335945Z"
        },
        "trusted": true,
        "id": "HvxOMdpYj2Yd"
      },
      "execution_count": null,
      "outputs": [],
      "id": "HvxOMdpYj2Yd"
    }
  ]
}